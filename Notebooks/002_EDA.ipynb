{
 "cells": [
  {
   "cell_type": "code",
   "execution_count": null,
   "metadata": {},
   "outputs": [],
   "source": [
    "# Cargar el DataFrame\n",
    "df = pd.read_csv(\"../data/Airbnb_Open_Data.csv\", low_memory=False, encoding='ISO-8859-1')\n",
    "\n",
    "# Función para identificar valores no ASCII\n",
    "def reemplazar_no_ascii(valor):\n",
    "    if isinstance(valor, str) and not valor.isascii():\n",
    "        return \"999999\"\n",
    "    return valor\n",
    "\n",
    "# Función para limpiar caracteres especiales en texto\n",
    "def limpiar_texto(texto):\n",
    "    if isinstance(texto, str) and not re.match(r'^[A-Za-z0-9 .,!?]+$', texto):\n",
    "        return \"999999\"\n",
    "    return texto\n",
    "\n",
    "# Función para validar datos numéricos\n",
    "def validar_numericos(valor):\n",
    "    try:\n",
    "        num = float(valor)\n",
    "        if num < 0 or num > 99999999:  # Puedes ajustar este umbral según el caso\n",
    "            return 999999\n",
    "    except ValueError:\n",
    "        return 999999  # Si no es un número, lo marcamos como inconsistente\n",
    "    return num\n",
    "\n",
    "# Aplicar validaciones en todas las columnas según su tipo\n",
    "for col in df.columns:\n",
    "    if df[col].dtype == \"object\":  # Columnas de texto\n",
    "        df[col] = df[col].map(reemplazar_no_ascii)\n",
    "        df[col] = df[col].map(limpiar_texto)\n",
    "    else:  # Columnas numéricas\n",
    "        df[col] = df[col].map(validar_numericos)\n",
    "\n",
    "# Reemplazar NaN e infinitos con 999999\n",
    "df = df.fillna(999999)\n",
    "df.replace([float('inf'), float('-inf')], 999999, inplace=True)\n",
    "\n",
    "# Mostrar primeras filas\n",
    "print(df.head())"
   ]
  }
 ],
 "metadata": {
  "language_info": {
   "name": "python"
  }
 },
 "nbformat": 4,
 "nbformat_minor": 2
}
