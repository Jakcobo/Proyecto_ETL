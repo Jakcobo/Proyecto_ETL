{
 "cells": [
  {
   "cell_type": "markdown",
   "metadata": {},
   "source": [
    "## Enviroment"
   ]
  },
  {
   "cell_type": "code",
   "execution_count": 2,
   "metadata": {},
   "outputs": [],
   "source": [
    "import pandas as pd\n",
    "from sqlalchemy import create_engine, text\n",
    "from sqlalchemy_utils import database_exists, create_database\n",
    "from dotenv import load_dotenv\n",
    "import os\n",
    "import logging # Mantendremos un logging mínimo para información útil\n",
    "\n",
    "# Configuración básica de logging (opcional, puedes quitarla si prefieres solo prints)\n",
    "logging.basicConfig(level=logging.INFO, format='%(asctime)s - %(levelname)s - %(message)s', datefmt='%Y-%m-%d %H:%M:%S')"
   ]
  },
  {
   "cell_type": "code",
   "execution_count": 3,
   "metadata": {},
   "outputs": [
    {
     "name": "stderr",
     "output_type": "stream",
     "text": [
      "2025-04-07 02:43:09 - INFO - Variables de entorno cargadas desde: /home/y4xul/ETL/PROYECTO/Proyecto_ETL/Notebooks/../env/.env\n",
      "2025-04-07 02:43:09 - INFO - Ruta CSV: /home/y4xul/ETL/PROYECTO/Proyecto_ETL/Notebooks/../data/Airbnb_Open_Data.csv\n",
      "2025-04-07 02:43:09 - INFO - Nombre de tabla: airbnb_data_raw\n",
      "2025-04-07 02:43:09 - INFO - Base de datos destino: airbnb\n"
     ]
    }
   ],
   "source": [
    "# Cargar variables de entorno desde el archivo .env\n",
    "# Ajusta la ruta si tu archivo .env está en otro lugar\n",
    "dotenv_path = os.path.join(os.getcwd(), '..', 'env', '.env')\n",
    "if not os.path.exists(dotenv_path):\n",
    "    # Intenta buscar en el directorio actual si no está en ../env/\n",
    "    dotenv_path = os.path.join(os.getcwd(), '.env')\n",
    "    if not os.path.exists(dotenv_path):\n",
    "         logging.warning(f\"Archivo .env no encontrado en {os.path.join(os.getcwd(), '..', 'env', '.env')} ni en {os.getcwd()}. Asegúrate de que exista y contenga las credenciales.\")\n",
    "         # Podrías detener la ejecución aquí si es crítico\n",
    "         # raise FileNotFoundError(\"Archivo .env no encontrado.\")\n",
    "\n",
    "\n",
    "if os.path.exists(dotenv_path):\n",
    "    load_dotenv(dotenv_path=dotenv_path)\n",
    "    logging.info(f\"Variables de entorno cargadas desde: {dotenv_path}\")\n",
    "else:\n",
    "    logging.warning(\"No se encontró el archivo .env en las rutas esperadas. Intentando usar variables de entorno del sistema si existen.\")\n",
    "    # load_dotenv() # Descomentar si quieres intentar cargar desde variables del sistema\n",
    "\n",
    "\n",
    "# Obtener credenciales desde las variables de entorno\n",
    "DB_USER = os.getenv(\"USER\")\n",
    "DB_PASSWORD = os.getenv(\"PASSWORD\")\n",
    "DB_HOST = os.getenv(\"HOST\")\n",
    "DB_PORT = os.getenv(\"PORT\")\n",
    "DB_DATABASE = os.getenv(\"DATABASE\")\n",
    "\n",
    "# Validar que las variables se cargaron (simple verificación)\n",
    "if not all([DB_USER, DB_PASSWORD, DB_HOST, DB_PORT, DB_DATABASE]):\n",
    "    raise ValueError(\"Una o más variables de entorno (USER, PASSWORD, HOST, PORT, DATABASE) no están definidas. Verifica tu archivo .env o las variables del sistema.\")\n",
    "\n",
    "# Definir rutas a los archivos (ajusta si es necesario)\n",
    "# Se asume que el notebook está en un directorio y 'data' está un nivel arriba\n",
    "CSV_PATH = os.path.join(os.getcwd(), \"..\", \"data\", \"Airbnb_Open_Data.csv\")\n",
    "TABLE_NAME = \"airbnb_data_raw\" # Usamos un nombre diferente para la tabla cruda\n",
    "\n",
    "logging.info(f\"Ruta CSV: {CSV_PATH}\")\n",
    "logging.info(f\"Nombre de tabla: {TABLE_NAME}\")\n",
    "logging.info(f\"Base de datos destino: {DB_DATABASE}\")"
   ]
  },
  {
   "cell_type": "code",
   "execution_count": 5,
   "metadata": {},
   "outputs": [
    {
     "name": "stderr",
     "output_type": "stream",
     "text": [
      "2025-04-07 02:48:15 - INFO - La base de datos 'airbnb' no existe. Creándola...\n",
      "2025-04-07 02:48:15 - ERROR - Error durante la configuración de la base de datos o creación del engine: (psycopg2.OperationalError) connection to server at \"localhost\" (127.0.0.1), port 5432 failed: FATAL:  password authentication failed for user \"y4xul\"\n",
      "connection to server at \"localhost\" (127.0.0.1), port 5432 failed: FATAL:  password authentication failed for user \"y4xul\"\n",
      "\n",
      "(Background on this error at: https://sqlalche.me/e/14/e3q8)\n"
     ]
    },
    {
     "ename": "OperationalError",
     "evalue": "(psycopg2.OperationalError) connection to server at \"localhost\" (127.0.0.1), port 5432 failed: FATAL:  password authentication failed for user \"y4xul\"\nconnection to server at \"localhost\" (127.0.0.1), port 5432 failed: FATAL:  password authentication failed for user \"y4xul\"\n\n(Background on this error at: https://sqlalche.me/e/14/e3q8)",
     "output_type": "error",
     "traceback": [
      "\u001b[31m---------------------------------------------------------------------------\u001b[39m",
      "\u001b[31mOperationalError\u001b[39m                          Traceback (most recent call last)",
      "\u001b[36mFile \u001b[39m\u001b[32m~/ETL/PROYECTO/Proyecto_ETL/venv/lib/python3.12/site-packages/sqlalchemy/engine/base.py:3371\u001b[39m, in \u001b[36mEngine._wrap_pool_connect\u001b[39m\u001b[34m(self, fn, connection)\u001b[39m\n\u001b[32m   3370\u001b[39m \u001b[38;5;28;01mtry\u001b[39;00m:\n\u001b[32m-> \u001b[39m\u001b[32m3371\u001b[39m     \u001b[38;5;28;01mreturn\u001b[39;00m \u001b[43mfn\u001b[49m\u001b[43m(\u001b[49m\u001b[43m)\u001b[49m\n\u001b[32m   3372\u001b[39m \u001b[38;5;28;01mexcept\u001b[39;00m dialect.dbapi.Error \u001b[38;5;28;01mas\u001b[39;00m e:\n",
      "\u001b[36mFile \u001b[39m\u001b[32m~/ETL/PROYECTO/Proyecto_ETL/venv/lib/python3.12/site-packages/sqlalchemy/pool/base.py:327\u001b[39m, in \u001b[36mPool.connect\u001b[39m\u001b[34m(self)\u001b[39m\n\u001b[32m    320\u001b[39m \u001b[38;5;250m\u001b[39m\u001b[33;03m\"\"\"Return a DBAPI connection from the pool.\u001b[39;00m\n\u001b[32m    321\u001b[39m \n\u001b[32m    322\u001b[39m \u001b[33;03mThe connection is instrumented such that when its\u001b[39;00m\n\u001b[32m   (...)\u001b[39m\u001b[32m    325\u001b[39m \n\u001b[32m    326\u001b[39m \u001b[33;03m\"\"\"\u001b[39;00m\n\u001b[32m--> \u001b[39m\u001b[32m327\u001b[39m \u001b[38;5;28;01mreturn\u001b[39;00m \u001b[43m_ConnectionFairy\u001b[49m\u001b[43m.\u001b[49m\u001b[43m_checkout\u001b[49m\u001b[43m(\u001b[49m\u001b[38;5;28;43mself\u001b[39;49m\u001b[43m)\u001b[49m\n",
      "\u001b[36mFile \u001b[39m\u001b[32m~/ETL/PROYECTO/Proyecto_ETL/venv/lib/python3.12/site-packages/sqlalchemy/pool/base.py:894\u001b[39m, in \u001b[36m_ConnectionFairy._checkout\u001b[39m\u001b[34m(cls, pool, threadconns, fairy)\u001b[39m\n\u001b[32m    893\u001b[39m \u001b[38;5;28;01mif\u001b[39;00m \u001b[38;5;129;01mnot\u001b[39;00m fairy:\n\u001b[32m--> \u001b[39m\u001b[32m894\u001b[39m     fairy = \u001b[43m_ConnectionRecord\u001b[49m\u001b[43m.\u001b[49m\u001b[43mcheckout\u001b[49m\u001b[43m(\u001b[49m\u001b[43mpool\u001b[49m\u001b[43m)\u001b[49m\n\u001b[32m    896\u001b[39m     fairy._pool = pool\n",
      "\u001b[36mFile \u001b[39m\u001b[32m~/ETL/PROYECTO/Proyecto_ETL/venv/lib/python3.12/site-packages/sqlalchemy/pool/base.py:493\u001b[39m, in \u001b[36m_ConnectionRecord.checkout\u001b[39m\u001b[34m(cls, pool)\u001b[39m\n\u001b[32m    491\u001b[39m \u001b[38;5;129m@classmethod\u001b[39m\n\u001b[32m    492\u001b[39m \u001b[38;5;28;01mdef\u001b[39;00m \u001b[34mcheckout\u001b[39m(\u001b[38;5;28mcls\u001b[39m, pool):\n\u001b[32m--> \u001b[39m\u001b[32m493\u001b[39m     rec = \u001b[43mpool\u001b[49m\u001b[43m.\u001b[49m\u001b[43m_do_get\u001b[49m\u001b[43m(\u001b[49m\u001b[43m)\u001b[49m\n\u001b[32m    494\u001b[39m     \u001b[38;5;28;01mtry\u001b[39;00m:\n",
      "\u001b[36mFile \u001b[39m\u001b[32m~/ETL/PROYECTO/Proyecto_ETL/venv/lib/python3.12/site-packages/sqlalchemy/pool/impl.py:145\u001b[39m, in \u001b[36mQueuePool._do_get\u001b[39m\u001b[34m(self)\u001b[39m\n\u001b[32m    144\u001b[39m \u001b[38;5;28;01mexcept\u001b[39;00m:\n\u001b[32m--> \u001b[39m\u001b[32m145\u001b[39m \u001b[43m    \u001b[49m\u001b[38;5;28;43;01mwith\u001b[39;49;00m\u001b[43m \u001b[49m\u001b[43mutil\u001b[49m\u001b[43m.\u001b[49m\u001b[43msafe_reraise\u001b[49m\u001b[43m(\u001b[49m\u001b[43m)\u001b[49m\u001b[43m:\u001b[49m\n\u001b[32m    146\u001b[39m \u001b[43m        \u001b[49m\u001b[38;5;28;43mself\u001b[39;49m\u001b[43m.\u001b[49m\u001b[43m_dec_overflow\u001b[49m\u001b[43m(\u001b[49m\u001b[43m)\u001b[49m\n",
      "\u001b[36mFile \u001b[39m\u001b[32m~/ETL/PROYECTO/Proyecto_ETL/venv/lib/python3.12/site-packages/sqlalchemy/util/langhelpers.py:70\u001b[39m, in \u001b[36msafe_reraise.__exit__\u001b[39m\u001b[34m(self, type_, value, traceback)\u001b[39m\n\u001b[32m     69\u001b[39m     \u001b[38;5;28;01mif\u001b[39;00m \u001b[38;5;129;01mnot\u001b[39;00m \u001b[38;5;28mself\u001b[39m.warn_only:\n\u001b[32m---> \u001b[39m\u001b[32m70\u001b[39m         \u001b[43mcompat\u001b[49m\u001b[43m.\u001b[49m\u001b[43mraise_\u001b[49m\u001b[43m(\u001b[49m\n\u001b[32m     71\u001b[39m \u001b[43m            \u001b[49m\u001b[43mexc_value\u001b[49m\u001b[43m,\u001b[49m\n\u001b[32m     72\u001b[39m \u001b[43m            \u001b[49m\u001b[43mwith_traceback\u001b[49m\u001b[43m=\u001b[49m\u001b[43mexc_tb\u001b[49m\u001b[43m,\u001b[49m\n\u001b[32m     73\u001b[39m \u001b[43m        \u001b[49m\u001b[43m)\u001b[49m\n\u001b[32m     74\u001b[39m \u001b[38;5;28;01melse\u001b[39;00m:\n",
      "\u001b[36mFile \u001b[39m\u001b[32m~/ETL/PROYECTO/Proyecto_ETL/venv/lib/python3.12/site-packages/sqlalchemy/util/compat.py:211\u001b[39m, in \u001b[36mraise_\u001b[39m\u001b[34m(***failed resolving arguments***)\u001b[39m\n\u001b[32m    210\u001b[39m \u001b[38;5;28;01mtry\u001b[39;00m:\n\u001b[32m--> \u001b[39m\u001b[32m211\u001b[39m     \u001b[38;5;28;01mraise\u001b[39;00m exception\n\u001b[32m    212\u001b[39m \u001b[38;5;28;01mfinally\u001b[39;00m:\n\u001b[32m    213\u001b[39m     \u001b[38;5;66;03m# credit to\u001b[39;00m\n\u001b[32m    214\u001b[39m     \u001b[38;5;66;03m# https://cosmicpercolator.com/2016/01/13/exception-leaks-in-python-2-and-3/\u001b[39;00m\n\u001b[32m    215\u001b[39m     \u001b[38;5;66;03m# as the __traceback__ object creates a cycle\u001b[39;00m\n",
      "\u001b[36mFile \u001b[39m\u001b[32m~/ETL/PROYECTO/Proyecto_ETL/venv/lib/python3.12/site-packages/sqlalchemy/pool/impl.py:143\u001b[39m, in \u001b[36mQueuePool._do_get\u001b[39m\u001b[34m(self)\u001b[39m\n\u001b[32m    142\u001b[39m \u001b[38;5;28;01mtry\u001b[39;00m:\n\u001b[32m--> \u001b[39m\u001b[32m143\u001b[39m     \u001b[38;5;28;01mreturn\u001b[39;00m \u001b[38;5;28;43mself\u001b[39;49m\u001b[43m.\u001b[49m\u001b[43m_create_connection\u001b[49m\u001b[43m(\u001b[49m\u001b[43m)\u001b[49m\n\u001b[32m    144\u001b[39m \u001b[38;5;28;01mexcept\u001b[39;00m:\n",
      "\u001b[36mFile \u001b[39m\u001b[32m~/ETL/PROYECTO/Proyecto_ETL/venv/lib/python3.12/site-packages/sqlalchemy/pool/base.py:273\u001b[39m, in \u001b[36mPool._create_connection\u001b[39m\u001b[34m(self)\u001b[39m\n\u001b[32m    271\u001b[39m \u001b[38;5;250m\u001b[39m\u001b[33;03m\"\"\"Called by subclasses to create a new ConnectionRecord.\"\"\"\u001b[39;00m\n\u001b[32m--> \u001b[39m\u001b[32m273\u001b[39m \u001b[38;5;28;01mreturn\u001b[39;00m \u001b[43m_ConnectionRecord\u001b[49m\u001b[43m(\u001b[49m\u001b[38;5;28;43mself\u001b[39;49m\u001b[43m)\u001b[49m\n",
      "\u001b[36mFile \u001b[39m\u001b[32m~/ETL/PROYECTO/Proyecto_ETL/venv/lib/python3.12/site-packages/sqlalchemy/pool/base.py:388\u001b[39m, in \u001b[36m_ConnectionRecord.__init__\u001b[39m\u001b[34m(self, pool, connect)\u001b[39m\n\u001b[32m    387\u001b[39m \u001b[38;5;28;01mif\u001b[39;00m connect:\n\u001b[32m--> \u001b[39m\u001b[32m388\u001b[39m     \u001b[38;5;28;43mself\u001b[39;49m\u001b[43m.\u001b[49m\u001b[43m__connect\u001b[49m\u001b[43m(\u001b[49m\u001b[43m)\u001b[49m\n\u001b[32m    389\u001b[39m \u001b[38;5;28mself\u001b[39m.finalize_callback = deque()\n",
      "\u001b[36mFile \u001b[39m\u001b[32m~/ETL/PROYECTO/Proyecto_ETL/venv/lib/python3.12/site-packages/sqlalchemy/pool/base.py:690\u001b[39m, in \u001b[36m_ConnectionRecord.__connect\u001b[39m\u001b[34m(self)\u001b[39m\n\u001b[32m    689\u001b[39m \u001b[38;5;28;01mexcept\u001b[39;00m \u001b[38;5;167;01mBaseException\u001b[39;00m \u001b[38;5;28;01mas\u001b[39;00m e:\n\u001b[32m--> \u001b[39m\u001b[32m690\u001b[39m \u001b[43m    \u001b[49m\u001b[38;5;28;43;01mwith\u001b[39;49;00m\u001b[43m \u001b[49m\u001b[43mutil\u001b[49m\u001b[43m.\u001b[49m\u001b[43msafe_reraise\u001b[49m\u001b[43m(\u001b[49m\u001b[43m)\u001b[49m\u001b[43m:\u001b[49m\n\u001b[32m    691\u001b[39m \u001b[43m        \u001b[49m\u001b[43mpool\u001b[49m\u001b[43m.\u001b[49m\u001b[43mlogger\u001b[49m\u001b[43m.\u001b[49m\u001b[43mdebug\u001b[49m\u001b[43m(\u001b[49m\u001b[33;43m\"\u001b[39;49m\u001b[33;43mError on connect(): \u001b[39;49m\u001b[38;5;132;43;01m%s\u001b[39;49;00m\u001b[33;43m\"\u001b[39;49m\u001b[43m,\u001b[49m\u001b[43m \u001b[49m\u001b[43me\u001b[49m\u001b[43m)\u001b[49m\n",
      "\u001b[36mFile \u001b[39m\u001b[32m~/ETL/PROYECTO/Proyecto_ETL/venv/lib/python3.12/site-packages/sqlalchemy/util/langhelpers.py:70\u001b[39m, in \u001b[36msafe_reraise.__exit__\u001b[39m\u001b[34m(self, type_, value, traceback)\u001b[39m\n\u001b[32m     69\u001b[39m     \u001b[38;5;28;01mif\u001b[39;00m \u001b[38;5;129;01mnot\u001b[39;00m \u001b[38;5;28mself\u001b[39m.warn_only:\n\u001b[32m---> \u001b[39m\u001b[32m70\u001b[39m         \u001b[43mcompat\u001b[49m\u001b[43m.\u001b[49m\u001b[43mraise_\u001b[49m\u001b[43m(\u001b[49m\n\u001b[32m     71\u001b[39m \u001b[43m            \u001b[49m\u001b[43mexc_value\u001b[49m\u001b[43m,\u001b[49m\n\u001b[32m     72\u001b[39m \u001b[43m            \u001b[49m\u001b[43mwith_traceback\u001b[49m\u001b[43m=\u001b[49m\u001b[43mexc_tb\u001b[49m\u001b[43m,\u001b[49m\n\u001b[32m     73\u001b[39m \u001b[43m        \u001b[49m\u001b[43m)\u001b[49m\n\u001b[32m     74\u001b[39m \u001b[38;5;28;01melse\u001b[39;00m:\n",
      "\u001b[36mFile \u001b[39m\u001b[32m~/ETL/PROYECTO/Proyecto_ETL/venv/lib/python3.12/site-packages/sqlalchemy/util/compat.py:211\u001b[39m, in \u001b[36mraise_\u001b[39m\u001b[34m(***failed resolving arguments***)\u001b[39m\n\u001b[32m    210\u001b[39m \u001b[38;5;28;01mtry\u001b[39;00m:\n\u001b[32m--> \u001b[39m\u001b[32m211\u001b[39m     \u001b[38;5;28;01mraise\u001b[39;00m exception\n\u001b[32m    212\u001b[39m \u001b[38;5;28;01mfinally\u001b[39;00m:\n\u001b[32m    213\u001b[39m     \u001b[38;5;66;03m# credit to\u001b[39;00m\n\u001b[32m    214\u001b[39m     \u001b[38;5;66;03m# https://cosmicpercolator.com/2016/01/13/exception-leaks-in-python-2-and-3/\u001b[39;00m\n\u001b[32m    215\u001b[39m     \u001b[38;5;66;03m# as the __traceback__ object creates a cycle\u001b[39;00m\n",
      "\u001b[36mFile \u001b[39m\u001b[32m~/ETL/PROYECTO/Proyecto_ETL/venv/lib/python3.12/site-packages/sqlalchemy/pool/base.py:686\u001b[39m, in \u001b[36m_ConnectionRecord.__connect\u001b[39m\u001b[34m(self)\u001b[39m\n\u001b[32m    685\u001b[39m \u001b[38;5;28mself\u001b[39m.starttime = time.time()\n\u001b[32m--> \u001b[39m\u001b[32m686\u001b[39m \u001b[38;5;28mself\u001b[39m.dbapi_connection = connection = \u001b[43mpool\u001b[49m\u001b[43m.\u001b[49m\u001b[43m_invoke_creator\u001b[49m\u001b[43m(\u001b[49m\u001b[38;5;28;43mself\u001b[39;49m\u001b[43m)\u001b[49m\n\u001b[32m    687\u001b[39m pool.logger.debug(\u001b[33m\"\u001b[39m\u001b[33mCreated new connection \u001b[39m\u001b[38;5;132;01m%r\u001b[39;00m\u001b[33m\"\u001b[39m, connection)\n",
      "\u001b[36mFile \u001b[39m\u001b[32m~/ETL/PROYECTO/Proyecto_ETL/venv/lib/python3.12/site-packages/sqlalchemy/engine/create.py:574\u001b[39m, in \u001b[36mcreate_engine.<locals>.connect\u001b[39m\u001b[34m(connection_record)\u001b[39m\n\u001b[32m    573\u001b[39m             \u001b[38;5;28;01mreturn\u001b[39;00m connection\n\u001b[32m--> \u001b[39m\u001b[32m574\u001b[39m \u001b[38;5;28;01mreturn\u001b[39;00m \u001b[43mdialect\u001b[49m\u001b[43m.\u001b[49m\u001b[43mconnect\u001b[49m\u001b[43m(\u001b[49m\u001b[43m*\u001b[49m\u001b[43mcargs\u001b[49m\u001b[43m,\u001b[49m\u001b[43m \u001b[49m\u001b[43m*\u001b[49m\u001b[43m*\u001b[49m\u001b[43mcparams\u001b[49m\u001b[43m)\u001b[49m\n",
      "\u001b[36mFile \u001b[39m\u001b[32m~/ETL/PROYECTO/Proyecto_ETL/venv/lib/python3.12/site-packages/sqlalchemy/engine/default.py:598\u001b[39m, in \u001b[36mDefaultDialect.connect\u001b[39m\u001b[34m(self, *cargs, **cparams)\u001b[39m\n\u001b[32m    596\u001b[39m \u001b[38;5;28;01mdef\u001b[39;00m \u001b[34mconnect\u001b[39m(\u001b[38;5;28mself\u001b[39m, *cargs, **cparams):\n\u001b[32m    597\u001b[39m     \u001b[38;5;66;03m# inherits the docstring from interfaces.Dialect.connect\u001b[39;00m\n\u001b[32m--> \u001b[39m\u001b[32m598\u001b[39m     \u001b[38;5;28;01mreturn\u001b[39;00m \u001b[38;5;28;43mself\u001b[39;49m\u001b[43m.\u001b[49m\u001b[43mdbapi\u001b[49m\u001b[43m.\u001b[49m\u001b[43mconnect\u001b[49m\u001b[43m(\u001b[49m\u001b[43m*\u001b[49m\u001b[43mcargs\u001b[49m\u001b[43m,\u001b[49m\u001b[43m \u001b[49m\u001b[43m*\u001b[49m\u001b[43m*\u001b[49m\u001b[43mcparams\u001b[49m\u001b[43m)\u001b[49m\n",
      "\u001b[36mFile \u001b[39m\u001b[32m~/ETL/PROYECTO/Proyecto_ETL/venv/lib/python3.12/site-packages/psycopg2/__init__.py:122\u001b[39m, in \u001b[36mconnect\u001b[39m\u001b[34m(dsn, connection_factory, cursor_factory, **kwargs)\u001b[39m\n\u001b[32m    121\u001b[39m dsn = _ext.make_dsn(dsn, **kwargs)\n\u001b[32m--> \u001b[39m\u001b[32m122\u001b[39m conn = \u001b[43m_connect\u001b[49m\u001b[43m(\u001b[49m\u001b[43mdsn\u001b[49m\u001b[43m,\u001b[49m\u001b[43m \u001b[49m\u001b[43mconnection_factory\u001b[49m\u001b[43m=\u001b[49m\u001b[43mconnection_factory\u001b[49m\u001b[43m,\u001b[49m\u001b[43m \u001b[49m\u001b[43m*\u001b[49m\u001b[43m*\u001b[49m\u001b[43mkwasync\u001b[49m\u001b[43m)\u001b[49m\n\u001b[32m    123\u001b[39m \u001b[38;5;28;01mif\u001b[39;00m cursor_factory \u001b[38;5;129;01mis\u001b[39;00m \u001b[38;5;129;01mnot\u001b[39;00m \u001b[38;5;28;01mNone\u001b[39;00m:\n",
      "\u001b[31mOperationalError\u001b[39m: connection to server at \"localhost\" (127.0.0.1), port 5432 failed: FATAL:  password authentication failed for user \"y4xul\"\nconnection to server at \"localhost\" (127.0.0.1), port 5432 failed: FATAL:  password authentication failed for user \"y4xul\"\n",
      "\nThe above exception was the direct cause of the following exception:\n",
      "\u001b[31mOperationalError\u001b[39m                          Traceback (most recent call last)",
      "\u001b[36mCell\u001b[39m\u001b[36m \u001b[39m\u001b[32mIn[5]\u001b[39m\u001b[32m, line 12\u001b[39m\n\u001b[32m     10\u001b[39m     logging.info(\u001b[33mf\u001b[39m\u001b[33m\"\u001b[39m\u001b[33mLa base de datos \u001b[39m\u001b[33m'\u001b[39m\u001b[38;5;132;01m{\u001b[39;00mDB_DATABASE\u001b[38;5;132;01m}\u001b[39;00m\u001b[33m'\u001b[39m\u001b[33m no existe. Creándola...\u001b[39m\u001b[33m\"\u001b[39m)\n\u001b[32m     11\u001b[39m     \u001b[38;5;66;03m# Crear la base de datos (necesita conexión al servidor, no a la DB específica)\u001b[39;00m\n\u001b[32m---> \u001b[39m\u001b[32m12\u001b[39m     \u001b[43mcreate_database\u001b[49m\u001b[43m(\u001b[49m\u001b[43mdb_url\u001b[49m\u001b[43m)\u001b[49m\n\u001b[32m     13\u001b[39m     logging.info(\u001b[33mf\u001b[39m\u001b[33m\"\u001b[39m\u001b[33mBase de datos \u001b[39m\u001b[33m'\u001b[39m\u001b[38;5;132;01m{\u001b[39;00mDB_DATABASE\u001b[38;5;132;01m}\u001b[39;00m\u001b[33m'\u001b[39m\u001b[33m creada.\u001b[39m\u001b[33m\"\u001b[39m)\n\u001b[32m     14\u001b[39m \u001b[38;5;28;01melse\u001b[39;00m:\n",
      "\u001b[36mFile \u001b[39m\u001b[32m~/ETL/PROYECTO/Proyecto_ETL/venv/lib/python3.12/site-packages/sqlalchemy_utils/functions/database.py:568\u001b[39m, in \u001b[36mcreate_database\u001b[39m\u001b[34m(url, encoding, template)\u001b[39m\n\u001b[32m    565\u001b[39m \u001b[38;5;28;01mif\u001b[39;00m \u001b[38;5;129;01mnot\u001b[39;00m template:\n\u001b[32m    566\u001b[39m     template = \u001b[33m'\u001b[39m\u001b[33mtemplate1\u001b[39m\u001b[33m'\u001b[39m\n\u001b[32m--> \u001b[39m\u001b[32m568\u001b[39m \u001b[38;5;28;01mwith\u001b[39;00m \u001b[43mengine\u001b[49m\u001b[43m.\u001b[49m\u001b[43mbegin\u001b[49m\u001b[43m(\u001b[49m\u001b[43m)\u001b[49m \u001b[38;5;28;01mas\u001b[39;00m conn:\n\u001b[32m    569\u001b[39m     text = \u001b[33m\"\u001b[39m\u001b[33mCREATE DATABASE \u001b[39m\u001b[38;5;132;01m{}\u001b[39;00m\u001b[33m ENCODING \u001b[39m\u001b[33m'\u001b[39m\u001b[38;5;132;01m{}\u001b[39;00m\u001b[33m'\u001b[39m\u001b[33m TEMPLATE \u001b[39m\u001b[38;5;132;01m{}\u001b[39;00m\u001b[33m\"\u001b[39m.format(\n\u001b[32m    570\u001b[39m         quote(conn, database),\n\u001b[32m    571\u001b[39m         encoding,\n\u001b[32m    572\u001b[39m         quote(conn, template)\n\u001b[32m    573\u001b[39m     )\n\u001b[32m    574\u001b[39m     conn.execute(sa.text(text))\n",
      "\u001b[36mFile \u001b[39m\u001b[32m~/ETL/PROYECTO/Proyecto_ETL/venv/lib/python3.12/site-packages/sqlalchemy/engine/base.py:3153\u001b[39m, in \u001b[36mEngine.begin\u001b[39m\u001b[34m(self, close_with_result)\u001b[39m\n\u001b[32m   3151\u001b[39m     conn = \u001b[38;5;28mself\u001b[39m.connect()\n\u001b[32m   3152\u001b[39m \u001b[38;5;28;01melse\u001b[39;00m:\n\u001b[32m-> \u001b[39m\u001b[32m3153\u001b[39m     conn = \u001b[38;5;28;43mself\u001b[39;49m\u001b[43m.\u001b[49m\u001b[43mconnect\u001b[49m\u001b[43m(\u001b[49m\u001b[43mclose_with_result\u001b[49m\u001b[43m=\u001b[49m\u001b[43mclose_with_result\u001b[49m\u001b[43m)\u001b[49m\n\u001b[32m   3154\u001b[39m \u001b[38;5;28;01mtry\u001b[39;00m:\n\u001b[32m   3155\u001b[39m     trans = conn.begin()\n",
      "\u001b[36mFile \u001b[39m\u001b[32m~/ETL/PROYECTO/Proyecto_ETL/venv/lib/python3.12/site-packages/sqlalchemy/engine/base.py:3325\u001b[39m, in \u001b[36mEngine.connect\u001b[39m\u001b[34m(self, close_with_result)\u001b[39m\n\u001b[32m   3310\u001b[39m \u001b[38;5;28;01mdef\u001b[39;00m \u001b[34mconnect\u001b[39m(\u001b[38;5;28mself\u001b[39m, close_with_result=\u001b[38;5;28;01mFalse\u001b[39;00m):\n\u001b[32m   3311\u001b[39m \u001b[38;5;250m    \u001b[39m\u001b[33;03m\"\"\"Return a new :class:`_engine.Connection` object.\u001b[39;00m\n\u001b[32m   3312\u001b[39m \n\u001b[32m   3313\u001b[39m \u001b[33;03m    The :class:`_engine.Connection` object is a facade that uses a DBAPI\u001b[39;00m\n\u001b[32m   (...)\u001b[39m\u001b[32m   3322\u001b[39m \n\u001b[32m   3323\u001b[39m \u001b[33;03m    \"\"\"\u001b[39;00m\n\u001b[32m-> \u001b[39m\u001b[32m3325\u001b[39m     \u001b[38;5;28;01mreturn\u001b[39;00m \u001b[38;5;28;43mself\u001b[39;49m\u001b[43m.\u001b[49m\u001b[43m_connection_cls\u001b[49m\u001b[43m(\u001b[49m\u001b[38;5;28;43mself\u001b[39;49m\u001b[43m,\u001b[49m\u001b[43m \u001b[49m\u001b[43mclose_with_result\u001b[49m\u001b[43m=\u001b[49m\u001b[43mclose_with_result\u001b[49m\u001b[43m)\u001b[49m\n",
      "\u001b[36mFile \u001b[39m\u001b[32m~/ETL/PROYECTO/Proyecto_ETL/venv/lib/python3.12/site-packages/sqlalchemy/engine/base.py:96\u001b[39m, in \u001b[36mConnection.__init__\u001b[39m\u001b[34m(self, engine, connection, close_with_result, _branch_from, _execution_options, _dispatch, _has_events, _allow_revalidate)\u001b[39m\n\u001b[32m     91\u001b[39m     \u001b[38;5;28mself\u001b[39m._has_events = _branch_from._has_events\n\u001b[32m     92\u001b[39m \u001b[38;5;28;01melse\u001b[39;00m:\n\u001b[32m     93\u001b[39m     \u001b[38;5;28mself\u001b[39m._dbapi_connection = (\n\u001b[32m     94\u001b[39m         connection\n\u001b[32m     95\u001b[39m         \u001b[38;5;28;01mif\u001b[39;00m connection \u001b[38;5;129;01mis\u001b[39;00m \u001b[38;5;129;01mnot\u001b[39;00m \u001b[38;5;28;01mNone\u001b[39;00m\n\u001b[32m---> \u001b[39m\u001b[32m96\u001b[39m         \u001b[38;5;28;01melse\u001b[39;00m \u001b[43mengine\u001b[49m\u001b[43m.\u001b[49m\u001b[43mraw_connection\u001b[49m\u001b[43m(\u001b[49m\u001b[43m)\u001b[49m\n\u001b[32m     97\u001b[39m     )\n\u001b[32m     99\u001b[39m     \u001b[38;5;28mself\u001b[39m._transaction = \u001b[38;5;28mself\u001b[39m._nested_transaction = \u001b[38;5;28;01mNone\u001b[39;00m\n\u001b[32m    100\u001b[39m     \u001b[38;5;28mself\u001b[39m.__savepoint_seq = \u001b[32m0\u001b[39m\n",
      "\u001b[36mFile \u001b[39m\u001b[32m~/ETL/PROYECTO/Proyecto_ETL/venv/lib/python3.12/site-packages/sqlalchemy/engine/base.py:3404\u001b[39m, in \u001b[36mEngine.raw_connection\u001b[39m\u001b[34m(self, _connection)\u001b[39m\n\u001b[32m   3382\u001b[39m \u001b[38;5;28;01mdef\u001b[39;00m \u001b[34mraw_connection\u001b[39m(\u001b[38;5;28mself\u001b[39m, _connection=\u001b[38;5;28;01mNone\u001b[39;00m):\n\u001b[32m   3383\u001b[39m \u001b[38;5;250m    \u001b[39m\u001b[33;03m\"\"\"Return a \"raw\" DBAPI connection from the connection pool.\u001b[39;00m\n\u001b[32m   3384\u001b[39m \n\u001b[32m   3385\u001b[39m \u001b[33;03m    The returned object is a proxied version of the DBAPI\u001b[39;00m\n\u001b[32m   (...)\u001b[39m\u001b[32m   3402\u001b[39m \n\u001b[32m   3403\u001b[39m \u001b[33;03m    \"\"\"\u001b[39;00m\n\u001b[32m-> \u001b[39m\u001b[32m3404\u001b[39m     \u001b[38;5;28;01mreturn\u001b[39;00m \u001b[38;5;28;43mself\u001b[39;49m\u001b[43m.\u001b[49m\u001b[43m_wrap_pool_connect\u001b[49m\u001b[43m(\u001b[49m\u001b[38;5;28;43mself\u001b[39;49m\u001b[43m.\u001b[49m\u001b[43mpool\u001b[49m\u001b[43m.\u001b[49m\u001b[43mconnect\u001b[49m\u001b[43m,\u001b[49m\u001b[43m \u001b[49m\u001b[43m_connection\u001b[49m\u001b[43m)\u001b[49m\n",
      "\u001b[36mFile \u001b[39m\u001b[32m~/ETL/PROYECTO/Proyecto_ETL/venv/lib/python3.12/site-packages/sqlalchemy/engine/base.py:3374\u001b[39m, in \u001b[36mEngine._wrap_pool_connect\u001b[39m\u001b[34m(self, fn, connection)\u001b[39m\n\u001b[32m   3372\u001b[39m \u001b[38;5;28;01mexcept\u001b[39;00m dialect.dbapi.Error \u001b[38;5;28;01mas\u001b[39;00m e:\n\u001b[32m   3373\u001b[39m     \u001b[38;5;28;01mif\u001b[39;00m connection \u001b[38;5;129;01mis\u001b[39;00m \u001b[38;5;28;01mNone\u001b[39;00m:\n\u001b[32m-> \u001b[39m\u001b[32m3374\u001b[39m         \u001b[43mConnection\u001b[49m\u001b[43m.\u001b[49m\u001b[43m_handle_dbapi_exception_noconnection\u001b[49m\u001b[43m(\u001b[49m\n\u001b[32m   3375\u001b[39m \u001b[43m            \u001b[49m\u001b[43me\u001b[49m\u001b[43m,\u001b[49m\u001b[43m \u001b[49m\u001b[43mdialect\u001b[49m\u001b[43m,\u001b[49m\u001b[43m \u001b[49m\u001b[38;5;28;43mself\u001b[39;49m\n\u001b[32m   3376\u001b[39m \u001b[43m        \u001b[49m\u001b[43m)\u001b[49m\n\u001b[32m   3377\u001b[39m     \u001b[38;5;28;01melse\u001b[39;00m:\n\u001b[32m   3378\u001b[39m         util.raise_(\n\u001b[32m   3379\u001b[39m             sys.exc_info()[\u001b[32m1\u001b[39m], with_traceback=sys.exc_info()[\u001b[32m2\u001b[39m]\n\u001b[32m   3380\u001b[39m         )\n",
      "\u001b[36mFile \u001b[39m\u001b[32m~/ETL/PROYECTO/Proyecto_ETL/venv/lib/python3.12/site-packages/sqlalchemy/engine/base.py:2208\u001b[39m, in \u001b[36mConnection._handle_dbapi_exception_noconnection\u001b[39m\u001b[34m(cls, e, dialect, engine)\u001b[39m\n\u001b[32m   2206\u001b[39m     util.raise_(newraise, with_traceback=exc_info[\u001b[32m2\u001b[39m], from_=e)\n\u001b[32m   2207\u001b[39m \u001b[38;5;28;01melif\u001b[39;00m should_wrap:\n\u001b[32m-> \u001b[39m\u001b[32m2208\u001b[39m     \u001b[43mutil\u001b[49m\u001b[43m.\u001b[49m\u001b[43mraise_\u001b[49m\u001b[43m(\u001b[49m\n\u001b[32m   2209\u001b[39m \u001b[43m        \u001b[49m\u001b[43msqlalchemy_exception\u001b[49m\u001b[43m,\u001b[49m\u001b[43m \u001b[49m\u001b[43mwith_traceback\u001b[49m\u001b[43m=\u001b[49m\u001b[43mexc_info\u001b[49m\u001b[43m[\u001b[49m\u001b[32;43m2\u001b[39;49m\u001b[43m]\u001b[49m\u001b[43m,\u001b[49m\u001b[43m \u001b[49m\u001b[43mfrom_\u001b[49m\u001b[43m=\u001b[49m\u001b[43me\u001b[49m\n\u001b[32m   2210\u001b[39m \u001b[43m    \u001b[49m\u001b[43m)\u001b[49m\n\u001b[32m   2211\u001b[39m \u001b[38;5;28;01melse\u001b[39;00m:\n\u001b[32m   2212\u001b[39m     util.raise_(exc_info[\u001b[32m1\u001b[39m], with_traceback=exc_info[\u001b[32m2\u001b[39m])\n",
      "\u001b[36mFile \u001b[39m\u001b[32m~/ETL/PROYECTO/Proyecto_ETL/venv/lib/python3.12/site-packages/sqlalchemy/util/compat.py:211\u001b[39m, in \u001b[36mraise_\u001b[39m\u001b[34m(***failed resolving arguments***)\u001b[39m\n\u001b[32m    208\u001b[39m     exception.__cause__ = replace_context\n\u001b[32m    210\u001b[39m \u001b[38;5;28;01mtry\u001b[39;00m:\n\u001b[32m--> \u001b[39m\u001b[32m211\u001b[39m     \u001b[38;5;28;01mraise\u001b[39;00m exception\n\u001b[32m    212\u001b[39m \u001b[38;5;28;01mfinally\u001b[39;00m:\n\u001b[32m    213\u001b[39m     \u001b[38;5;66;03m# credit to\u001b[39;00m\n\u001b[32m    214\u001b[39m     \u001b[38;5;66;03m# https://cosmicpercolator.com/2016/01/13/exception-leaks-in-python-2-and-3/\u001b[39;00m\n\u001b[32m    215\u001b[39m     \u001b[38;5;66;03m# as the __traceback__ object creates a cycle\u001b[39;00m\n\u001b[32m    216\u001b[39m     \u001b[38;5;28;01mdel\u001b[39;00m exception, replace_context, from_, with_traceback\n",
      "\u001b[36mFile \u001b[39m\u001b[32m~/ETL/PROYECTO/Proyecto_ETL/venv/lib/python3.12/site-packages/sqlalchemy/engine/base.py:3371\u001b[39m, in \u001b[36mEngine._wrap_pool_connect\u001b[39m\u001b[34m(self, fn, connection)\u001b[39m\n\u001b[32m   3369\u001b[39m dialect = \u001b[38;5;28mself\u001b[39m.dialect\n\u001b[32m   3370\u001b[39m \u001b[38;5;28;01mtry\u001b[39;00m:\n\u001b[32m-> \u001b[39m\u001b[32m3371\u001b[39m     \u001b[38;5;28;01mreturn\u001b[39;00m \u001b[43mfn\u001b[49m\u001b[43m(\u001b[49m\u001b[43m)\u001b[49m\n\u001b[32m   3372\u001b[39m \u001b[38;5;28;01mexcept\u001b[39;00m dialect.dbapi.Error \u001b[38;5;28;01mas\u001b[39;00m e:\n\u001b[32m   3373\u001b[39m     \u001b[38;5;28;01mif\u001b[39;00m connection \u001b[38;5;129;01mis\u001b[39;00m \u001b[38;5;28;01mNone\u001b[39;00m:\n",
      "\u001b[36mFile \u001b[39m\u001b[32m~/ETL/PROYECTO/Proyecto_ETL/venv/lib/python3.12/site-packages/sqlalchemy/pool/base.py:327\u001b[39m, in \u001b[36mPool.connect\u001b[39m\u001b[34m(self)\u001b[39m\n\u001b[32m    319\u001b[39m \u001b[38;5;28;01mdef\u001b[39;00m \u001b[34mconnect\u001b[39m(\u001b[38;5;28mself\u001b[39m):\n\u001b[32m    320\u001b[39m \u001b[38;5;250m    \u001b[39m\u001b[33;03m\"\"\"Return a DBAPI connection from the pool.\u001b[39;00m\n\u001b[32m    321\u001b[39m \n\u001b[32m    322\u001b[39m \u001b[33;03m    The connection is instrumented such that when its\u001b[39;00m\n\u001b[32m   (...)\u001b[39m\u001b[32m    325\u001b[39m \n\u001b[32m    326\u001b[39m \u001b[33;03m    \"\"\"\u001b[39;00m\n\u001b[32m--> \u001b[39m\u001b[32m327\u001b[39m     \u001b[38;5;28;01mreturn\u001b[39;00m \u001b[43m_ConnectionFairy\u001b[49m\u001b[43m.\u001b[49m\u001b[43m_checkout\u001b[49m\u001b[43m(\u001b[49m\u001b[38;5;28;43mself\u001b[39;49m\u001b[43m)\u001b[49m\n",
      "\u001b[36mFile \u001b[39m\u001b[32m~/ETL/PROYECTO/Proyecto_ETL/venv/lib/python3.12/site-packages/sqlalchemy/pool/base.py:894\u001b[39m, in \u001b[36m_ConnectionFairy._checkout\u001b[39m\u001b[34m(cls, pool, threadconns, fairy)\u001b[39m\n\u001b[32m    891\u001b[39m \u001b[38;5;129m@classmethod\u001b[39m\n\u001b[32m    892\u001b[39m \u001b[38;5;28;01mdef\u001b[39;00m \u001b[34m_checkout\u001b[39m(\u001b[38;5;28mcls\u001b[39m, pool, threadconns=\u001b[38;5;28;01mNone\u001b[39;00m, fairy=\u001b[38;5;28;01mNone\u001b[39;00m):\n\u001b[32m    893\u001b[39m     \u001b[38;5;28;01mif\u001b[39;00m \u001b[38;5;129;01mnot\u001b[39;00m fairy:\n\u001b[32m--> \u001b[39m\u001b[32m894\u001b[39m         fairy = \u001b[43m_ConnectionRecord\u001b[49m\u001b[43m.\u001b[49m\u001b[43mcheckout\u001b[49m\u001b[43m(\u001b[49m\u001b[43mpool\u001b[49m\u001b[43m)\u001b[49m\n\u001b[32m    896\u001b[39m         fairy._pool = pool\n\u001b[32m    897\u001b[39m         fairy._counter = \u001b[32m0\u001b[39m\n",
      "\u001b[36mFile \u001b[39m\u001b[32m~/ETL/PROYECTO/Proyecto_ETL/venv/lib/python3.12/site-packages/sqlalchemy/pool/base.py:493\u001b[39m, in \u001b[36m_ConnectionRecord.checkout\u001b[39m\u001b[34m(cls, pool)\u001b[39m\n\u001b[32m    491\u001b[39m \u001b[38;5;129m@classmethod\u001b[39m\n\u001b[32m    492\u001b[39m \u001b[38;5;28;01mdef\u001b[39;00m \u001b[34mcheckout\u001b[39m(\u001b[38;5;28mcls\u001b[39m, pool):\n\u001b[32m--> \u001b[39m\u001b[32m493\u001b[39m     rec = \u001b[43mpool\u001b[49m\u001b[43m.\u001b[49m\u001b[43m_do_get\u001b[49m\u001b[43m(\u001b[49m\u001b[43m)\u001b[49m\n\u001b[32m    494\u001b[39m     \u001b[38;5;28;01mtry\u001b[39;00m:\n\u001b[32m    495\u001b[39m         dbapi_connection = rec.get_connection()\n",
      "\u001b[36mFile \u001b[39m\u001b[32m~/ETL/PROYECTO/Proyecto_ETL/venv/lib/python3.12/site-packages/sqlalchemy/pool/impl.py:145\u001b[39m, in \u001b[36mQueuePool._do_get\u001b[39m\u001b[34m(self)\u001b[39m\n\u001b[32m    143\u001b[39m         \u001b[38;5;28;01mreturn\u001b[39;00m \u001b[38;5;28mself\u001b[39m._create_connection()\n\u001b[32m    144\u001b[39m     \u001b[38;5;28;01mexcept\u001b[39;00m:\n\u001b[32m--> \u001b[39m\u001b[32m145\u001b[39m \u001b[43m        \u001b[49m\u001b[38;5;28;43;01mwith\u001b[39;49;00m\u001b[43m \u001b[49m\u001b[43mutil\u001b[49m\u001b[43m.\u001b[49m\u001b[43msafe_reraise\u001b[49m\u001b[43m(\u001b[49m\u001b[43m)\u001b[49m\u001b[43m:\u001b[49m\n\u001b[32m    146\u001b[39m \u001b[43m            \u001b[49m\u001b[38;5;28;43mself\u001b[39;49m\u001b[43m.\u001b[49m\u001b[43m_dec_overflow\u001b[49m\u001b[43m(\u001b[49m\u001b[43m)\u001b[49m\n\u001b[32m    147\u001b[39m \u001b[38;5;28;01melse\u001b[39;00m:\n",
      "\u001b[36mFile \u001b[39m\u001b[32m~/ETL/PROYECTO/Proyecto_ETL/venv/lib/python3.12/site-packages/sqlalchemy/util/langhelpers.py:70\u001b[39m, in \u001b[36msafe_reraise.__exit__\u001b[39m\u001b[34m(self, type_, value, traceback)\u001b[39m\n\u001b[32m     68\u001b[39m     \u001b[38;5;28mself\u001b[39m._exc_info = \u001b[38;5;28;01mNone\u001b[39;00m  \u001b[38;5;66;03m# remove potential circular references\u001b[39;00m\n\u001b[32m     69\u001b[39m     \u001b[38;5;28;01mif\u001b[39;00m \u001b[38;5;129;01mnot\u001b[39;00m \u001b[38;5;28mself\u001b[39m.warn_only:\n\u001b[32m---> \u001b[39m\u001b[32m70\u001b[39m         \u001b[43mcompat\u001b[49m\u001b[43m.\u001b[49m\u001b[43mraise_\u001b[49m\u001b[43m(\u001b[49m\n\u001b[32m     71\u001b[39m \u001b[43m            \u001b[49m\u001b[43mexc_value\u001b[49m\u001b[43m,\u001b[49m\n\u001b[32m     72\u001b[39m \u001b[43m            \u001b[49m\u001b[43mwith_traceback\u001b[49m\u001b[43m=\u001b[49m\u001b[43mexc_tb\u001b[49m\u001b[43m,\u001b[49m\n\u001b[32m     73\u001b[39m \u001b[43m        \u001b[49m\u001b[43m)\u001b[49m\n\u001b[32m     74\u001b[39m \u001b[38;5;28;01melse\u001b[39;00m:\n\u001b[32m     75\u001b[39m     \u001b[38;5;28;01mif\u001b[39;00m \u001b[38;5;129;01mnot\u001b[39;00m compat.py3k \u001b[38;5;129;01mand\u001b[39;00m \u001b[38;5;28mself\u001b[39m._exc_info \u001b[38;5;129;01mand\u001b[39;00m \u001b[38;5;28mself\u001b[39m._exc_info[\u001b[32m1\u001b[39m]:\n\u001b[32m     76\u001b[39m         \u001b[38;5;66;03m# emulate Py3K's behavior of telling us when an exception\u001b[39;00m\n\u001b[32m     77\u001b[39m         \u001b[38;5;66;03m# occurs in an exception handler.\u001b[39;00m\n",
      "\u001b[36mFile \u001b[39m\u001b[32m~/ETL/PROYECTO/Proyecto_ETL/venv/lib/python3.12/site-packages/sqlalchemy/util/compat.py:211\u001b[39m, in \u001b[36mraise_\u001b[39m\u001b[34m(***failed resolving arguments***)\u001b[39m\n\u001b[32m    208\u001b[39m     exception.__cause__ = replace_context\n\u001b[32m    210\u001b[39m \u001b[38;5;28;01mtry\u001b[39;00m:\n\u001b[32m--> \u001b[39m\u001b[32m211\u001b[39m     \u001b[38;5;28;01mraise\u001b[39;00m exception\n\u001b[32m    212\u001b[39m \u001b[38;5;28;01mfinally\u001b[39;00m:\n\u001b[32m    213\u001b[39m     \u001b[38;5;66;03m# credit to\u001b[39;00m\n\u001b[32m    214\u001b[39m     \u001b[38;5;66;03m# https://cosmicpercolator.com/2016/01/13/exception-leaks-in-python-2-and-3/\u001b[39;00m\n\u001b[32m    215\u001b[39m     \u001b[38;5;66;03m# as the __traceback__ object creates a cycle\u001b[39;00m\n\u001b[32m    216\u001b[39m     \u001b[38;5;28;01mdel\u001b[39;00m exception, replace_context, from_, with_traceback\n",
      "\u001b[36mFile \u001b[39m\u001b[32m~/ETL/PROYECTO/Proyecto_ETL/venv/lib/python3.12/site-packages/sqlalchemy/pool/impl.py:143\u001b[39m, in \u001b[36mQueuePool._do_get\u001b[39m\u001b[34m(self)\u001b[39m\n\u001b[32m    141\u001b[39m \u001b[38;5;28;01mif\u001b[39;00m \u001b[38;5;28mself\u001b[39m._inc_overflow():\n\u001b[32m    142\u001b[39m     \u001b[38;5;28;01mtry\u001b[39;00m:\n\u001b[32m--> \u001b[39m\u001b[32m143\u001b[39m         \u001b[38;5;28;01mreturn\u001b[39;00m \u001b[38;5;28;43mself\u001b[39;49m\u001b[43m.\u001b[49m\u001b[43m_create_connection\u001b[49m\u001b[43m(\u001b[49m\u001b[43m)\u001b[49m\n\u001b[32m    144\u001b[39m     \u001b[38;5;28;01mexcept\u001b[39;00m:\n\u001b[32m    145\u001b[39m         \u001b[38;5;28;01mwith\u001b[39;00m util.safe_reraise():\n",
      "\u001b[36mFile \u001b[39m\u001b[32m~/ETL/PROYECTO/Proyecto_ETL/venv/lib/python3.12/site-packages/sqlalchemy/pool/base.py:273\u001b[39m, in \u001b[36mPool._create_connection\u001b[39m\u001b[34m(self)\u001b[39m\n\u001b[32m    270\u001b[39m \u001b[38;5;28;01mdef\u001b[39;00m \u001b[34m_create_connection\u001b[39m(\u001b[38;5;28mself\u001b[39m):\n\u001b[32m    271\u001b[39m \u001b[38;5;250m    \u001b[39m\u001b[33;03m\"\"\"Called by subclasses to create a new ConnectionRecord.\"\"\"\u001b[39;00m\n\u001b[32m--> \u001b[39m\u001b[32m273\u001b[39m     \u001b[38;5;28;01mreturn\u001b[39;00m \u001b[43m_ConnectionRecord\u001b[49m\u001b[43m(\u001b[49m\u001b[38;5;28;43mself\u001b[39;49m\u001b[43m)\u001b[49m\n",
      "\u001b[36mFile \u001b[39m\u001b[32m~/ETL/PROYECTO/Proyecto_ETL/venv/lib/python3.12/site-packages/sqlalchemy/pool/base.py:388\u001b[39m, in \u001b[36m_ConnectionRecord.__init__\u001b[39m\u001b[34m(self, pool, connect)\u001b[39m\n\u001b[32m    386\u001b[39m \u001b[38;5;28mself\u001b[39m.__pool = pool\n\u001b[32m    387\u001b[39m \u001b[38;5;28;01mif\u001b[39;00m connect:\n\u001b[32m--> \u001b[39m\u001b[32m388\u001b[39m     \u001b[38;5;28;43mself\u001b[39;49m\u001b[43m.\u001b[49m\u001b[43m__connect\u001b[49m\u001b[43m(\u001b[49m\u001b[43m)\u001b[49m\n\u001b[32m    389\u001b[39m \u001b[38;5;28mself\u001b[39m.finalize_callback = deque()\n",
      "\u001b[36mFile \u001b[39m\u001b[32m~/ETL/PROYECTO/Proyecto_ETL/venv/lib/python3.12/site-packages/sqlalchemy/pool/base.py:690\u001b[39m, in \u001b[36m_ConnectionRecord.__connect\u001b[39m\u001b[34m(self)\u001b[39m\n\u001b[32m    688\u001b[39m     \u001b[38;5;28mself\u001b[39m.fresh = \u001b[38;5;28;01mTrue\u001b[39;00m\n\u001b[32m    689\u001b[39m \u001b[38;5;28;01mexcept\u001b[39;00m \u001b[38;5;167;01mBaseException\u001b[39;00m \u001b[38;5;28;01mas\u001b[39;00m e:\n\u001b[32m--> \u001b[39m\u001b[32m690\u001b[39m \u001b[43m    \u001b[49m\u001b[38;5;28;43;01mwith\u001b[39;49;00m\u001b[43m \u001b[49m\u001b[43mutil\u001b[49m\u001b[43m.\u001b[49m\u001b[43msafe_reraise\u001b[49m\u001b[43m(\u001b[49m\u001b[43m)\u001b[49m\u001b[43m:\u001b[49m\n\u001b[32m    691\u001b[39m \u001b[43m        \u001b[49m\u001b[43mpool\u001b[49m\u001b[43m.\u001b[49m\u001b[43mlogger\u001b[49m\u001b[43m.\u001b[49m\u001b[43mdebug\u001b[49m\u001b[43m(\u001b[49m\u001b[33;43m\"\u001b[39;49m\u001b[33;43mError on connect(): \u001b[39;49m\u001b[38;5;132;43;01m%s\u001b[39;49;00m\u001b[33;43m\"\u001b[39;49m\u001b[43m,\u001b[49m\u001b[43m \u001b[49m\u001b[43me\u001b[49m\u001b[43m)\u001b[49m\n\u001b[32m    692\u001b[39m \u001b[38;5;28;01melse\u001b[39;00m:\n\u001b[32m    693\u001b[39m     \u001b[38;5;66;03m# in SQLAlchemy 1.4 the first_connect event is not used by\u001b[39;00m\n\u001b[32m    694\u001b[39m     \u001b[38;5;66;03m# the engine, so this will usually not be set\u001b[39;00m\n",
      "\u001b[36mFile \u001b[39m\u001b[32m~/ETL/PROYECTO/Proyecto_ETL/venv/lib/python3.12/site-packages/sqlalchemy/util/langhelpers.py:70\u001b[39m, in \u001b[36msafe_reraise.__exit__\u001b[39m\u001b[34m(self, type_, value, traceback)\u001b[39m\n\u001b[32m     68\u001b[39m     \u001b[38;5;28mself\u001b[39m._exc_info = \u001b[38;5;28;01mNone\u001b[39;00m  \u001b[38;5;66;03m# remove potential circular references\u001b[39;00m\n\u001b[32m     69\u001b[39m     \u001b[38;5;28;01mif\u001b[39;00m \u001b[38;5;129;01mnot\u001b[39;00m \u001b[38;5;28mself\u001b[39m.warn_only:\n\u001b[32m---> \u001b[39m\u001b[32m70\u001b[39m         \u001b[43mcompat\u001b[49m\u001b[43m.\u001b[49m\u001b[43mraise_\u001b[49m\u001b[43m(\u001b[49m\n\u001b[32m     71\u001b[39m \u001b[43m            \u001b[49m\u001b[43mexc_value\u001b[49m\u001b[43m,\u001b[49m\n\u001b[32m     72\u001b[39m \u001b[43m            \u001b[49m\u001b[43mwith_traceback\u001b[49m\u001b[43m=\u001b[49m\u001b[43mexc_tb\u001b[49m\u001b[43m,\u001b[49m\n\u001b[32m     73\u001b[39m \u001b[43m        \u001b[49m\u001b[43m)\u001b[49m\n\u001b[32m     74\u001b[39m \u001b[38;5;28;01melse\u001b[39;00m:\n\u001b[32m     75\u001b[39m     \u001b[38;5;28;01mif\u001b[39;00m \u001b[38;5;129;01mnot\u001b[39;00m compat.py3k \u001b[38;5;129;01mand\u001b[39;00m \u001b[38;5;28mself\u001b[39m._exc_info \u001b[38;5;129;01mand\u001b[39;00m \u001b[38;5;28mself\u001b[39m._exc_info[\u001b[32m1\u001b[39m]:\n\u001b[32m     76\u001b[39m         \u001b[38;5;66;03m# emulate Py3K's behavior of telling us when an exception\u001b[39;00m\n\u001b[32m     77\u001b[39m         \u001b[38;5;66;03m# occurs in an exception handler.\u001b[39;00m\n",
      "\u001b[36mFile \u001b[39m\u001b[32m~/ETL/PROYECTO/Proyecto_ETL/venv/lib/python3.12/site-packages/sqlalchemy/util/compat.py:211\u001b[39m, in \u001b[36mraise_\u001b[39m\u001b[34m(***failed resolving arguments***)\u001b[39m\n\u001b[32m    208\u001b[39m     exception.__cause__ = replace_context\n\u001b[32m    210\u001b[39m \u001b[38;5;28;01mtry\u001b[39;00m:\n\u001b[32m--> \u001b[39m\u001b[32m211\u001b[39m     \u001b[38;5;28;01mraise\u001b[39;00m exception\n\u001b[32m    212\u001b[39m \u001b[38;5;28;01mfinally\u001b[39;00m:\n\u001b[32m    213\u001b[39m     \u001b[38;5;66;03m# credit to\u001b[39;00m\n\u001b[32m    214\u001b[39m     \u001b[38;5;66;03m# https://cosmicpercolator.com/2016/01/13/exception-leaks-in-python-2-and-3/\u001b[39;00m\n\u001b[32m    215\u001b[39m     \u001b[38;5;66;03m# as the __traceback__ object creates a cycle\u001b[39;00m\n\u001b[32m    216\u001b[39m     \u001b[38;5;28;01mdel\u001b[39;00m exception, replace_context, from_, with_traceback\n",
      "\u001b[36mFile \u001b[39m\u001b[32m~/ETL/PROYECTO/Proyecto_ETL/venv/lib/python3.12/site-packages/sqlalchemy/pool/base.py:686\u001b[39m, in \u001b[36m_ConnectionRecord.__connect\u001b[39m\u001b[34m(self)\u001b[39m\n\u001b[32m    684\u001b[39m \u001b[38;5;28;01mtry\u001b[39;00m:\n\u001b[32m    685\u001b[39m     \u001b[38;5;28mself\u001b[39m.starttime = time.time()\n\u001b[32m--> \u001b[39m\u001b[32m686\u001b[39m     \u001b[38;5;28mself\u001b[39m.dbapi_connection = connection = \u001b[43mpool\u001b[49m\u001b[43m.\u001b[49m\u001b[43m_invoke_creator\u001b[49m\u001b[43m(\u001b[49m\u001b[38;5;28;43mself\u001b[39;49m\u001b[43m)\u001b[49m\n\u001b[32m    687\u001b[39m     pool.logger.debug(\u001b[33m\"\u001b[39m\u001b[33mCreated new connection \u001b[39m\u001b[38;5;132;01m%r\u001b[39;00m\u001b[33m\"\u001b[39m, connection)\n\u001b[32m    688\u001b[39m     \u001b[38;5;28mself\u001b[39m.fresh = \u001b[38;5;28;01mTrue\u001b[39;00m\n",
      "\u001b[36mFile \u001b[39m\u001b[32m~/ETL/PROYECTO/Proyecto_ETL/venv/lib/python3.12/site-packages/sqlalchemy/engine/create.py:574\u001b[39m, in \u001b[36mcreate_engine.<locals>.connect\u001b[39m\u001b[34m(connection_record)\u001b[39m\n\u001b[32m    572\u001b[39m         \u001b[38;5;28;01mif\u001b[39;00m connection \u001b[38;5;129;01mis\u001b[39;00m \u001b[38;5;129;01mnot\u001b[39;00m \u001b[38;5;28;01mNone\u001b[39;00m:\n\u001b[32m    573\u001b[39m             \u001b[38;5;28;01mreturn\u001b[39;00m connection\n\u001b[32m--> \u001b[39m\u001b[32m574\u001b[39m \u001b[38;5;28;01mreturn\u001b[39;00m \u001b[43mdialect\u001b[49m\u001b[43m.\u001b[49m\u001b[43mconnect\u001b[49m\u001b[43m(\u001b[49m\u001b[43m*\u001b[49m\u001b[43mcargs\u001b[49m\u001b[43m,\u001b[49m\u001b[43m \u001b[49m\u001b[43m*\u001b[49m\u001b[43m*\u001b[49m\u001b[43mcparams\u001b[49m\u001b[43m)\u001b[49m\n",
      "\u001b[36mFile \u001b[39m\u001b[32m~/ETL/PROYECTO/Proyecto_ETL/venv/lib/python3.12/site-packages/sqlalchemy/engine/default.py:598\u001b[39m, in \u001b[36mDefaultDialect.connect\u001b[39m\u001b[34m(self, *cargs, **cparams)\u001b[39m\n\u001b[32m    596\u001b[39m \u001b[38;5;28;01mdef\u001b[39;00m \u001b[34mconnect\u001b[39m(\u001b[38;5;28mself\u001b[39m, *cargs, **cparams):\n\u001b[32m    597\u001b[39m     \u001b[38;5;66;03m# inherits the docstring from interfaces.Dialect.connect\u001b[39;00m\n\u001b[32m--> \u001b[39m\u001b[32m598\u001b[39m     \u001b[38;5;28;01mreturn\u001b[39;00m \u001b[38;5;28;43mself\u001b[39;49m\u001b[43m.\u001b[49m\u001b[43mdbapi\u001b[49m\u001b[43m.\u001b[49m\u001b[43mconnect\u001b[49m\u001b[43m(\u001b[49m\u001b[43m*\u001b[49m\u001b[43mcargs\u001b[49m\u001b[43m,\u001b[49m\u001b[43m \u001b[49m\u001b[43m*\u001b[49m\u001b[43m*\u001b[49m\u001b[43mcparams\u001b[49m\u001b[43m)\u001b[49m\n",
      "\u001b[36mFile \u001b[39m\u001b[32m~/ETL/PROYECTO/Proyecto_ETL/venv/lib/python3.12/site-packages/psycopg2/__init__.py:122\u001b[39m, in \u001b[36mconnect\u001b[39m\u001b[34m(dsn, connection_factory, cursor_factory, **kwargs)\u001b[39m\n\u001b[32m    119\u001b[39m     kwasync[\u001b[33m'\u001b[39m\u001b[33masync_\u001b[39m\u001b[33m'\u001b[39m] = kwargs.pop(\u001b[33m'\u001b[39m\u001b[33masync_\u001b[39m\u001b[33m'\u001b[39m)\n\u001b[32m    121\u001b[39m dsn = _ext.make_dsn(dsn, **kwargs)\n\u001b[32m--> \u001b[39m\u001b[32m122\u001b[39m conn = \u001b[43m_connect\u001b[49m\u001b[43m(\u001b[49m\u001b[43mdsn\u001b[49m\u001b[43m,\u001b[49m\u001b[43m \u001b[49m\u001b[43mconnection_factory\u001b[49m\u001b[43m=\u001b[49m\u001b[43mconnection_factory\u001b[49m\u001b[43m,\u001b[49m\u001b[43m \u001b[49m\u001b[43m*\u001b[49m\u001b[43m*\u001b[49m\u001b[43mkwasync\u001b[49m\u001b[43m)\u001b[49m\n\u001b[32m    123\u001b[39m \u001b[38;5;28;01mif\u001b[39;00m cursor_factory \u001b[38;5;129;01mis\u001b[39;00m \u001b[38;5;129;01mnot\u001b[39;00m \u001b[38;5;28;01mNone\u001b[39;00m:\n\u001b[32m    124\u001b[39m     conn.cursor_factory = cursor_factory\n",
      "\u001b[31mOperationalError\u001b[39m: (psycopg2.OperationalError) connection to server at \"localhost\" (127.0.0.1), port 5432 failed: FATAL:  password authentication failed for user \"y4xul\"\nconnection to server at \"localhost\" (127.0.0.1), port 5432 failed: FATAL:  password authentication failed for user \"y4xul\"\n\n(Background on this error at: https://sqlalche.me/e/14/e3q8)"
     ]
    }
   ],
   "source": [
    "# Construir URLs de conexión\n",
    "# URL para conectar al servidor PostgreSQL (usando 'postgres' db por defecto para verificar/crear)\n",
    "server_url = f\"postgresql+psycopg2://{DB_USER}:{DB_PASSWORD}@{DB_HOST}:{DB_PORT}/postgres\"\n",
    "# URL para conectar a la base de datos específica de destino\n",
    "db_url = f\"postgresql+psycopg2://{DB_USER}:{DB_PASSWORD}@{DB_HOST}:{DB_PORT}/{DB_DATABASE}\"\n",
    "\n",
    "# Verificar si la base de datos existe\n",
    "try:\n",
    "    if not database_exists(db_url):\n",
    "        logging.info(f\"La base de datos '{DB_DATABASE}' no existe. Creándola...\")\n",
    "        # Crear la base de datos (necesita conexión al servidor, no a la DB específica)\n",
    "        create_database(db_url)\n",
    "        logging.info(f\"Base de datos '{DB_DATABASE}' creada.\")\n",
    "    else:\n",
    "        logging.info(f\"La base de datos '{DB_DATABASE}' ya existe.\")\n",
    "\n",
    "    # Crear el engine para conectar a la base de datos específica\n",
    "    engine = create_engine(db_url)\n",
    "    logging.info(f\"Engine creado para la base de datos '{DB_DATABASE}'.\")\n",
    "\n",
    "    # Probar conexión simple (opcional)\n",
    "    with engine.connect() as connection:\n",
    "        connection.execute(text(\"SELECT 1\"))\n",
    "    logging.info(\"Conexión a la base de datos exitosa.\")\n",
    "\n",
    "except Exception as e:\n",
    "    logging.error(f\"Error durante la configuración de la base de datos o creación del engine: {e}\")\n",
    "    # En un notebook, podrías querer detener aquí o manejar el error\n",
    "    raise # Relanzar el error para detener la ejecución del notebook si falla la conexión/creación"
   ]
  },
  {
   "cell_type": "code",
   "execution_count": null,
   "metadata": {},
   "outputs": [],
   "source": [
    "# Cargar el archivo CSV en un DataFrame de pandas\n",
    "try:\n",
    "    df = pd.read_csv(CSV_PATH, low_memory=False, encoding='ISO-8859-1')\n",
    "    logging.info(f\"Archivo CSV '{os.path.basename(CSV_PATH)}' cargado. Filas: {len(df)}\")\n",
    "\n",
    "    # Mostrar las primeras filas para verificar\n",
    "    print(\"\\nPrimeras 5 filas del DataFrame:\")\n",
    "    display(df.head()) # 'display' es mejor que 'print' para DataFrames en notebooks\n",
    "\n",
    "except FileNotFoundError:\n",
    "    logging.error(f\"Error: Archivo CSV no encontrado en la ruta: {CSV_PATH}\")\n",
    "    # Detener si el archivo no se encuentra\n",
    "    raise\n",
    "except Exception as e:\n",
    "    logging.error(f\"Error al leer el archivo CSV: {e}\")\n",
    "    raise"
   ]
  },
  {
   "cell_type": "code",
   "execution_count": null,
   "metadata": {},
   "outputs": [],
   "source": [
    "# Cargar el DataFrame a la tabla especificada en la base de datos\n",
    "# if_exists='replace' borrará la tabla si existe y la creará de nuevo\n",
    "try:\n",
    "    logging.info(f\"Cargando datos en la tabla '{TABLE_NAME}' (esto puede tardar)...\")\n",
    "    df.to_sql(TABLE_NAME, engine, if_exists='replace', index=False, chunksize=10000) # chunksize ayuda con memoria\n",
    "    logging.info(f\"Datos cargados exitosamente en la tabla '{TABLE_NAME}'.\")\n",
    "\n",
    "except Exception as e:\n",
    "    logging.error(f\"Error al cargar datos en la base de datos: {e}\")\n",
    "    raise"
   ]
  },
  {
   "cell_type": "code",
   "execution_count": null,
   "metadata": {},
   "outputs": [],
   "source": [
    "# Verificar que los datos se cargaron contando las filas en la tabla\n",
    "try:\n",
    "    with engine.connect() as connection:\n",
    "        result = connection.execute(text(f\"SELECT COUNT(*) FROM {TABLE_NAME};\"))\n",
    "        db_rows_count = result.scalar() # Obtener el primer valor de la primera fila\n",
    "\n",
    "    logging.info(f\"Verificación: Número de filas en CSV = {len(df)}\")\n",
    "    logging.info(f\"Verificación: Número de filas en tabla '{TABLE_NAME}' = {db_rows_count}\")\n",
    "\n",
    "    if len(df) == db_rows_count:\n",
    "        print(\"\\n¡Éxito! El número de filas coincide.\")\n",
    "    else:\n",
    "        print(\"\\n¡Advertencia! El número de filas en el CSV y en la tabla no coincide.\")\n",
    "\n",
    "    # Opcional: Mostrar las primeras 5 filas desde la BD\n",
    "    # print(f\"\\nPrimeras 5 filas leídas desde la tabla '{TABLE_NAME}':\")\n",
    "    # query_head = f\"SELECT * FROM {TABLE_NAME} LIMIT 5;\"\n",
    "    # df_from_db = pd.read_sql(query_head, engine)\n",
    "    # display(df_from_db)\n",
    "\n",
    "except Exception as e:\n",
    "    logging.error(f\"Error durante la verificación de datos en la base de datos: {e}\")\n",
    "\n",
    "# Nota: En un notebook no es estrictamente necesario hacer engine.dispose()\n",
    "# ya que el kernel maneja los recursos, pero si ejecutas muchas veces\n",
    "# o tienes operaciones muy largas, podría ser buena práctica al final.\n",
    "# Ejemplo:\n",
    "# if 'engine' in locals() and engine:\n",
    "#     engine.dispose()\n",
    "#     logging.info(\"Engine dispuesto.\")"
   ]
  },
  {
   "cell_type": "code",
   "execution_count": null,
   "metadata": {},
   "outputs": [],
   "source": [
    "import pandas as pd\n",
    "from sqlalchemy import create_engine, text\n",
    "import json\n",
    "import logging"
   ]
  },
  {
   "cell_type": "code",
   "execution_count": null,
   "metadata": {},
   "outputs": [
    {
     "name": "stdout",
     "output_type": "stream",
     "text": [
      "Datos del CSV cargados correctamente.\n",
      "        id                                              NAME      host id  \\\n",
      "0  1001254                Clean & quiet apt home by the park  80014485718   \n",
      "1  1002102                             Skylit Midtown Castle  52335172823   \n",
      "2  1002403               THE VILLAGE OF HARLEM....NEW YORK !  78829239556   \n",
      "3  1002755                                               NaN  85098326012   \n",
      "4  1003689  Entire Apt: Spacious Studio/Loft by central park  92037596077   \n",
      "\n",
      "  host_identity_verified host name neighbourhood group neighbourhood  \\\n",
      "0            unconfirmed  Madaline            Brooklyn    Kensington   \n",
      "1               verified     Jenna           Manhattan       Midtown   \n",
      "2                    NaN     Elise           Manhattan        Harlem   \n",
      "3            unconfirmed     Garry            Brooklyn  Clinton Hill   \n",
      "4               verified    Lyndon           Manhattan   East Harlem   \n",
      "\n",
      "        lat      long        country  ... service fee minimum nights  \\\n",
      "0  40.64749 -73.97237  United States  ...       $193            10.0   \n",
      "1  40.75362 -73.98377  United States  ...        $28            30.0   \n",
      "2  40.80902 -73.94190  United States  ...       $124             3.0   \n",
      "3  40.68514 -73.95976  United States  ...        $74            30.0   \n",
      "4  40.79851 -73.94399  United States  ...        $41            10.0   \n",
      "\n",
      "  number of reviews last review  reviews per month review rate number  \\\n",
      "0               9.0  10/19/2021               0.21                4.0   \n",
      "1              45.0   5/21/2022               0.38                4.0   \n",
      "2               0.0         NaN                NaN                5.0   \n",
      "3             270.0    7/5/2019               4.64                4.0   \n",
      "4               9.0  11/19/2018               0.10                3.0   \n",
      "\n",
      "  calculated host listings count  availability 365  \\\n",
      "0                            6.0             286.0   \n",
      "1                            2.0             228.0   \n",
      "2                            1.0             352.0   \n",
      "3                            1.0             322.0   \n",
      "4                            1.0             289.0   \n",
      "\n",
      "                                         house_rules license  \n",
      "0  Clean up and treat the home the way you'd like...     NaN  \n",
      "1  Pet friendly but please confirm with me if the...     NaN  \n",
      "2  I encourage you to use my kitchen, cooking and...     NaN  \n",
      "3                                                NaN     NaN  \n",
      "4  Please no smoking in the house, porch or on th...     NaN  \n",
      "\n",
      "[5 rows x 26 columns]\n"
     ]
    }
   ],
   "source": [
    "df = pd.read_csv(\"../data/Airbnb_Open_Data.csv\", low_memory=False, encoding='ISO-8859-1')\n",
    "print(\"Datos del CSV cargados correctamente.\")\n",
    "print(df.head())"
   ]
  },
  {
   "cell_type": "markdown",
   "metadata": {},
   "source": [
    "Conexión a la base de datos mediante las credenciales definidas"
   ]
  },
  {
   "cell_type": "code",
   "execution_count": null,
   "metadata": {},
   "outputs": [
    {
     "name": "stderr",
     "output_type": "stream",
     "text": [
      "2025-03-21 09:38:16,347 - INFO - Conexión a la base de datos exitosa.\n",
      "2025-03-21 09:38:16,347 - INFO - El engine se creó correctamente y está listo para usar.\n"
     ]
    }
   ],
   "source": [
    "def create_db_engine():\n",
    "    logging.basicConfig(level=logging.INFO, format='%(asctime)s - %(levelname)s - %(message)s')\n",
    "    credentials = \"../credentials.json\"\n",
    "\n",
    "    \"\"\"\n",
    "    Lee las credenciales desde un archivo JSON, crea y retorna un engine para conectarse a la base de datos.\n",
    "    Utiliza logging para notificar el resultado de la conexión.\n",
    "    \"\"\"\n",
    "    try:\n",
    "        with open(credentials, 'r') as file:\n",
    "            config = json.load(file)\n",
    "        user = config[\"user\"]\n",
    "        password = config[\"password\"]\n",
    "        host = config[\"host\"]\n",
    "        port = config[\"port\"]\n",
    "        database = config[\"database\"]\n",
    "        \n",
    "        # Construcción de la cadena de conexión\n",
    "        connection_string = f\"postgresql+psycopg2://{user}:{password}@{host}:{port}/{database}\"\n",
    "        engine = create_engine(connection_string)\n",
    "        \n",
    "        # Realizamos una consulta simple para probar la conexión\n",
    "        with engine.connect() as conn:\n",
    "            conn.execute(text(\"SELECT 1\"))\n",
    "        logging.info(\"Conexión a la base de datos exitosa.\")\n",
    "        \n",
    "        return engine\n",
    "    except Exception as e:\n",
    "        logging.error(\"Error al conectar a la base de datos: %s\", e)\n",
    "        return None\n",
    "\n",
    "# Ejemplo de uso:\n",
    "if __name__ == \"__main__\":\n",
    "    engine = create_db_engine()\n",
    "    if engine:\n",
    "        logging.info(\"El engine se creó correctamente y está listo para usar.\")\n"
   ]
  },
  {
   "cell_type": "code",
   "execution_count": null,
   "metadata": {},
   "outputs": [
    {
     "name": "stdout",
     "output_type": "stream",
     "text": [
      "La base de datos 'airbnb' ya existe.\n"
     ]
    }
   ],
   "source": [
    "credentials = \"../credentials.json\"\n",
    "\n",
    "with open(credentials) as f:\n",
    "    creds = json.load(f)\n",
    "    \n",
    "DB_USER = creds[\"user\"]\n",
    "DB_PASSWORD = creds[\"password\"]\n",
    "DB_HOST = creds[\"host\"]\n",
    "DB_PORT = creds[\"port\"]\n",
    "DB_NAME = creds[\"database\"]\n",
    "\n",
    "creator_connection_string = f'postgresql+psycopg2://{DB_USER}:{DB_PASSWORD}@{DB_HOST}:{DB_PORT}/postgres'\n",
    "creator_engine = create_engine(creator_connection_string)\n",
    "\n",
    "with creator_engine.connect() as connection:\n",
    "    connection.execution_options(isolation_level=\"AUTOCOMMIT\")\n",
    "    result = connection.execute(\n",
    "        text(f\"SELECT 1 FROM pg_database WHERE datname = '{DB_NAME}'\")\n",
    "    )\n",
    "    \n",
    "    if not result.scalar():\n",
    "        connection.execute(text(f\"CREATE DATABASE {DB_NAME}\"))\n",
    "        print(f\"Base de datos '{DB_NAME}' creada exitosamente!\")\n",
    "    else:\n",
    "        print(f\"La base de datos '{DB_NAME}' ya existe.\")"
   ]
  },
  {
   "cell_type": "code",
   "execution_count": null,
   "metadata": {},
   "outputs": [
    {
     "name": "stdout",
     "output_type": "stream",
     "text": [
      "Tabla 'airbnb_data' creada y datos cargados en la base de datos 'airbnb'.\n"
     ]
    }
   ],
   "source": [
    "connection_string = f'postgresql+psycopg2://{DB_USER}:{DB_PASSWORD}@{DB_HOST}:{DB_PORT}/{DB_NAME}'\n",
    "engine = create_engine(connection_string)\n",
    "\n",
    "table_name = \"airbnb_data\"\n",
    "df.to_sql(table_name, engine, if_exists='replace', index=False)\n",
    "\n",
    "print(f\"Tabla '{table_name}' creada y datos cargados en la base de datos '{DB_NAME}'.\")"
   ]
  },
  {
   "cell_type": "code",
   "execution_count": null,
   "metadata": {},
   "outputs": [
    {
     "name": "stdout",
     "output_type": "stream",
     "text": [
      "Primeros 5 registros de la tabla 'airbnb_data':\n",
      "        id                                              NAME      host id  \\\n",
      "0  1001254                Clean & quiet apt home by the park  80014485718   \n",
      "1  1002102                             Skylit Midtown Castle  52335172823   \n",
      "2  1002403               THE VILLAGE OF HARLEM....NEW YORK !  78829239556   \n",
      "3  1002755                                              None  85098326012   \n",
      "4  1003689  Entire Apt: Spacious Studio/Loft by central park  92037596077   \n",
      "\n",
      "  host_identity_verified host name neighbourhood group neighbourhood  \\\n",
      "0            unconfirmed  Madaline            Brooklyn    Kensington   \n",
      "1               verified     Jenna           Manhattan       Midtown   \n",
      "2                   None     Elise           Manhattan        Harlem   \n",
      "3            unconfirmed     Garry            Brooklyn  Clinton Hill   \n",
      "4               verified    Lyndon           Manhattan   East Harlem   \n",
      "\n",
      "        lat      long        country  ... service fee  minimum nights  \\\n",
      "0  40.64749 -73.97237  United States  ...       $193             10.0   \n",
      "1  40.75362 -73.98377  United States  ...        $28             30.0   \n",
      "2  40.80902 -73.94190  United States  ...       $124              3.0   \n",
      "3  40.68514 -73.95976  United States  ...        $74             30.0   \n",
      "4  40.79851 -73.94399  United States  ...        $41             10.0   \n",
      "\n",
      "  number of reviews last review  reviews per month review rate number  \\\n",
      "0               9.0  10/19/2021               0.21                4.0   \n",
      "1              45.0   5/21/2022               0.38                4.0   \n",
      "2               0.0        None                NaN                5.0   \n",
      "3             270.0    7/5/2019               4.64                4.0   \n",
      "4               9.0  11/19/2018               0.10                3.0   \n",
      "\n",
      "  calculated host listings count  availability 365  \\\n",
      "0                            6.0             286.0   \n",
      "1                            2.0             228.0   \n",
      "2                            1.0             352.0   \n",
      "3                            1.0             322.0   \n",
      "4                            1.0             289.0   \n",
      "\n",
      "                                         house_rules license  \n",
      "0  Clean up and treat the home the way you'd like...    None  \n",
      "1  Pet friendly but please confirm with me if the...    None  \n",
      "2  I encourage you to use my kitchen, cooking and...    None  \n",
      "3                                               None    None  \n",
      "4  Please no smoking in the house, porch or on th...    None  \n",
      "\n",
      "[5 rows x 26 columns]\n"
     ]
    }
   ],
   "source": [
    "with engine.connect() as connection:\n",
    "    query = f\"SELECT * FROM {table_name} LIMIT 5;\"\n",
    "    df_5filas = pd.read_sql(query, connection)\n",
    "    print(f\"Primeros 5 registros de la tabla '{table_name}':\")\n",
    "    print(df_5filas)"
   ]
  },
  {
   "cell_type": "code",
   "execution_count": null,
   "metadata": {},
   "outputs": [
    {
     "name": "stdout",
     "output_type": "stream",
     "text": [
      "El archivo CSV tiene un total de 102599 filas.\n",
      "La tabla 'airbnb_data' tiene un total de 102599 filas.\n"
     ]
    }
   ],
   "source": [
    "total_csv_rows = len(df)\n",
    "print(f\"El archivo CSV tiene un total de {total_csv_rows} filas.\")\n",
    "\n",
    "with engine.connect() as connection:\n",
    "    result = connection.execute(text(f\"SELECT COUNT(*) FROM {table_name};\"))\n",
    "    total_rows = result.scalar()\n",
    "    print(f\"La tabla '{table_name}' tiene un total de {total_rows} filas.\")"
   ]
  }
 ],
 "metadata": {
  "kernelspec": {
   "display_name": "venv",
   "language": "python",
   "name": "python3"
  },
  "language_info": {
   "codemirror_mode": {
    "name": "ipython",
    "version": 3
   },
   "file_extension": ".py",
   "mimetype": "text/x-python",
   "name": "python",
   "nbconvert_exporter": "python",
   "pygments_lexer": "ipython3",
   "version": "3.12.3"
  }
 },
 "nbformat": 4,
 "nbformat_minor": 2
}
