{
 "cells": [
  {
   "cell_type": "markdown",
   "metadata": {},
   "source": [
    "## Enviroment"
   ]
  },
  {
   "cell_type": "code",
   "execution_count": null,
   "metadata": {},
   "outputs": [],
   "source": [
    "import pandas as pd\n",
    "from sqlalchemy import create_engine, text\n",
    "import json\n",
    "import logging"
   ]
  },
  {
   "cell_type": "code",
   "execution_count": 2,
   "metadata": {},
   "outputs": [
    {
     "name": "stdout",
     "output_type": "stream",
     "text": [
      "Datos del CSV cargados correctamente.\n",
      "        id                                              NAME      host id  \\\n",
      "0  1001254                Clean & quiet apt home by the park  80014485718   \n",
      "1  1002102                             Skylit Midtown Castle  52335172823   \n",
      "2  1002403               THE VILLAGE OF HARLEM....NEW YORK !  78829239556   \n",
      "3  1002755                                               NaN  85098326012   \n",
      "4  1003689  Entire Apt: Spacious Studio/Loft by central park  92037596077   \n",
      "\n",
      "  host_identity_verified host name neighbourhood group neighbourhood  \\\n",
      "0            unconfirmed  Madaline            Brooklyn    Kensington   \n",
      "1               verified     Jenna           Manhattan       Midtown   \n",
      "2                    NaN     Elise           Manhattan        Harlem   \n",
      "3            unconfirmed     Garry            Brooklyn  Clinton Hill   \n",
      "4               verified    Lyndon           Manhattan   East Harlem   \n",
      "\n",
      "        lat      long        country  ... service fee minimum nights  \\\n",
      "0  40.64749 -73.97237  United States  ...       $193            10.0   \n",
      "1  40.75362 -73.98377  United States  ...        $28            30.0   \n",
      "2  40.80902 -73.94190  United States  ...       $124             3.0   \n",
      "3  40.68514 -73.95976  United States  ...        $74            30.0   \n",
      "4  40.79851 -73.94399  United States  ...        $41            10.0   \n",
      "\n",
      "  number of reviews last review  reviews per month review rate number  \\\n",
      "0               9.0  10/19/2021               0.21                4.0   \n",
      "1              45.0   5/21/2022               0.38                4.0   \n",
      "2               0.0         NaN                NaN                5.0   \n",
      "3             270.0    7/5/2019               4.64                4.0   \n",
      "4               9.0  11/19/2018               0.10                3.0   \n",
      "\n",
      "  calculated host listings count  availability 365  \\\n",
      "0                            6.0             286.0   \n",
      "1                            2.0             228.0   \n",
      "2                            1.0             352.0   \n",
      "3                            1.0             322.0   \n",
      "4                            1.0             289.0   \n",
      "\n",
      "                                         house_rules license  \n",
      "0  Clean up and treat the home the way you'd like...     NaN  \n",
      "1  Pet friendly but please confirm with me if the...     NaN  \n",
      "2  I encourage you to use my kitchen, cooking and...     NaN  \n",
      "3                                                NaN     NaN  \n",
      "4  Please no smoking in the house, porch or on th...     NaN  \n",
      "\n",
      "[5 rows x 26 columns]\n"
     ]
    }
   ],
   "source": [
    "df = pd.read_csv(\"../data/Airbnb_Open_Data.csv\", low_memory=False, encoding='ISO-8859-1')\n",
    "print(\"Datos del CSV cargados correctamente.\")\n",
    "print(df.head())"
   ]
  },
  {
   "cell_type": "markdown",
   "metadata": {},
   "source": [
    "Conexión a la base de datos mediante las credenciales definidas"
   ]
  },
  {
   "cell_type": "code",
   "execution_count": 25,
   "metadata": {},
   "outputs": [
    {
     "name": "stderr",
     "output_type": "stream",
     "text": [
      "2025-03-21 09:38:16,347 - INFO - Conexión a la base de datos exitosa.\n",
      "2025-03-21 09:38:16,347 - INFO - El engine se creó correctamente y está listo para usar.\n"
     ]
    }
   ],
   "source": [
    "def create_db_engine():\n",
    "    logging.basicConfig(level=logging.INFO, format='%(asctime)s - %(levelname)s - %(message)s')\n",
    "    credentials = \"../credentials.json\"\n",
    "\n",
    "    \"\"\"\n",
    "    Lee las credenciales desde un archivo JSON, crea y retorna un engine para conectarse a la base de datos.\n",
    "    Utiliza logging para notificar el resultado de la conexión.\n",
    "    \"\"\"\n",
    "    try:\n",
    "        with open(credentials, 'r') as file:\n",
    "            config = json.load(file)\n",
    "        user = config[\"user\"]\n",
    "        password = config[\"password\"]\n",
    "        host = config[\"host\"]\n",
    "        port = config[\"port\"]\n",
    "        database = config[\"database\"]\n",
    "        \n",
    "        # Construcción de la cadena de conexión\n",
    "        connection_string = f\"postgresql+psycopg2://{user}:{password}@{host}:{port}/{database}\"\n",
    "        engine = create_engine(connection_string)\n",
    "        \n",
    "        # Realizamos una consulta simple para probar la conexión\n",
    "        with engine.connect() as conn:\n",
    "            conn.execute(text(\"SELECT 1\"))\n",
    "        logging.info(\"Conexión a la base de datos exitosa.\")\n",
    "        \n",
    "        return engine\n",
    "    except Exception as e:\n",
    "        logging.error(\"Error al conectar a la base de datos: %s\", e)\n",
    "        return None\n",
    "\n",
    "# Ejemplo de uso:\n",
    "if __name__ == \"__main__\":\n",
    "    engine = create_db_engine()\n",
    "    if engine:\n",
    "        logging.info(\"El engine se creó correctamente y está listo para usar.\")\n"
   ]
  },
  {
   "cell_type": "code",
   "execution_count": 3,
   "metadata": {},
   "outputs": [
    {
     "name": "stdout",
     "output_type": "stream",
     "text": [
      "La base de datos 'airbnb' ya existe.\n"
     ]
    }
   ],
   "source": [
    "credentials = \"../credentials.json\"\n",
    "\n",
    "with open(credentials) as f:\n",
    "    creds = json.load(f)\n",
    "    \n",
    "DB_USER = creds[\"user\"]\n",
    "DB_PASSWORD = creds[\"password\"]\n",
    "DB_HOST = creds[\"host\"]\n",
    "DB_PORT = creds[\"port\"]\n",
    "DB_NAME = creds[\"database\"]\n",
    "\n",
    "creator_connection_string = f'postgresql+psycopg2://{DB_USER}:{DB_PASSWORD}@{DB_HOST}:{DB_PORT}/postgres'\n",
    "creator_engine = create_engine(creator_connection_string)\n",
    "\n",
    "with creator_engine.connect() as connection:\n",
    "    connection.execution_options(isolation_level=\"AUTOCOMMIT\")\n",
    "    result = connection.execute(\n",
    "        text(f\"SELECT 1 FROM pg_database WHERE datname = '{DB_NAME}'\")\n",
    "    )\n",
    "    \n",
    "    if not result.scalar():\n",
    "        connection.execute(text(f\"CREATE DATABASE {DB_NAME}\"))\n",
    "        print(f\"Base de datos '{DB_NAME}' creada exitosamente!\")\n",
    "    else:\n",
    "        print(f\"La base de datos '{DB_NAME}' ya existe.\")"
   ]
  },
  {
   "cell_type": "code",
   "execution_count": 4,
   "metadata": {},
   "outputs": [
    {
     "name": "stdout",
     "output_type": "stream",
     "text": [
      "Tabla 'airbnb_data' creada y datos cargados en la base de datos 'airbnb'.\n"
     ]
    }
   ],
   "source": [
    "connection_string = f'postgresql+psycopg2://{DB_USER}:{DB_PASSWORD}@{DB_HOST}:{DB_PORT}/{DB_NAME}'\n",
    "engine = create_engine(connection_string)\n",
    "\n",
    "table_name = \"airbnb_data\"\n",
    "df.to_sql(table_name, engine, if_exists='replace', index=False)\n",
    "\n",
    "print(f\"Tabla '{table_name}' creada y datos cargados en la base de datos '{DB_NAME}'.\")"
   ]
  },
  {
   "cell_type": "code",
   "execution_count": 5,
   "metadata": {},
   "outputs": [
    {
     "name": "stdout",
     "output_type": "stream",
     "text": [
      "Primeros 5 registros de la tabla 'airbnb_data':\n",
      "        id                                              NAME      host id  \\\n",
      "0  1001254                Clean & quiet apt home by the park  80014485718   \n",
      "1  1002102                             Skylit Midtown Castle  52335172823   \n",
      "2  1002403               THE VILLAGE OF HARLEM....NEW YORK !  78829239556   \n",
      "3  1002755                                              None  85098326012   \n",
      "4  1003689  Entire Apt: Spacious Studio/Loft by central park  92037596077   \n",
      "\n",
      "  host_identity_verified host name neighbourhood group neighbourhood  \\\n",
      "0            unconfirmed  Madaline            Brooklyn    Kensington   \n",
      "1               verified     Jenna           Manhattan       Midtown   \n",
      "2                   None     Elise           Manhattan        Harlem   \n",
      "3            unconfirmed     Garry            Brooklyn  Clinton Hill   \n",
      "4               verified    Lyndon           Manhattan   East Harlem   \n",
      "\n",
      "        lat      long        country  ... service fee  minimum nights  \\\n",
      "0  40.64749 -73.97237  United States  ...       $193             10.0   \n",
      "1  40.75362 -73.98377  United States  ...        $28             30.0   \n",
      "2  40.80902 -73.94190  United States  ...       $124              3.0   \n",
      "3  40.68514 -73.95976  United States  ...        $74             30.0   \n",
      "4  40.79851 -73.94399  United States  ...        $41             10.0   \n",
      "\n",
      "  number of reviews last review  reviews per month review rate number  \\\n",
      "0               9.0  10/19/2021               0.21                4.0   \n",
      "1              45.0   5/21/2022               0.38                4.0   \n",
      "2               0.0        None                NaN                5.0   \n",
      "3             270.0    7/5/2019               4.64                4.0   \n",
      "4               9.0  11/19/2018               0.10                3.0   \n",
      "\n",
      "  calculated host listings count  availability 365  \\\n",
      "0                            6.0             286.0   \n",
      "1                            2.0             228.0   \n",
      "2                            1.0             352.0   \n",
      "3                            1.0             322.0   \n",
      "4                            1.0             289.0   \n",
      "\n",
      "                                         house_rules license  \n",
      "0  Clean up and treat the home the way you'd like...    None  \n",
      "1  Pet friendly but please confirm with me if the...    None  \n",
      "2  I encourage you to use my kitchen, cooking and...    None  \n",
      "3                                               None    None  \n",
      "4  Please no smoking in the house, porch or on th...    None  \n",
      "\n",
      "[5 rows x 26 columns]\n"
     ]
    }
   ],
   "source": [
    "with engine.connect() as connection:\n",
    "    query = f\"SELECT * FROM {table_name} LIMIT 5;\"\n",
    "    df_5filas = pd.read_sql(query, connection)\n",
    "    print(f\"Primeros 5 registros de la tabla '{table_name}':\")\n",
    "    print(df_5filas)"
   ]
  },
  {
   "cell_type": "code",
   "execution_count": 6,
   "metadata": {},
   "outputs": [
    {
     "name": "stdout",
     "output_type": "stream",
     "text": [
      "El archivo CSV tiene un total de 102599 filas.\n",
      "La tabla 'airbnb_data' tiene un total de 102599 filas.\n"
     ]
    }
   ],
   "source": [
    "total_csv_rows = len(df)\n",
    "print(f\"El archivo CSV tiene un total de {total_csv_rows} filas.\")\n",
    "\n",
    "with engine.connect() as connection:\n",
    "    result = connection.execute(text(f\"SELECT COUNT(*) FROM {table_name};\"))\n",
    "    total_rows = result.scalar()\n",
    "    print(f\"La tabla '{table_name}' tiene un total de {total_rows} filas.\")"
   ]
  }
 ],
 "metadata": {
  "kernelspec": {
   "display_name": "venv",
   "language": "python",
   "name": "python3"
  },
  "language_info": {
   "codemirror_mode": {
    "name": "ipython",
    "version": 3
   },
   "file_extension": ".py",
   "mimetype": "text/x-python",
   "name": "python",
   "nbconvert_exporter": "python",
   "pygments_lexer": "ipython3",
   "version": "3.8.10"
  }
 },
 "nbformat": 4,
 "nbformat_minor": 2
}
