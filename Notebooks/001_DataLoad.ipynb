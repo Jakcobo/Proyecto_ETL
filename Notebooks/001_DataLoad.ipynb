{
 "cells": [
  {
   "cell_type": "markdown",
   "metadata": {},
   "source": [
    "## Enviroment"
   ]
  },
  {
   "cell_type": "code",
   "execution_count": 12,
   "metadata": {},
   "outputs": [
    {
     "name": "stdout",
     "output_type": "stream",
     "text": [
      "Requirement already satisfied: pandas in c:\\program files\\python311\\lib\\site-packages (2.1.2)\n",
      "Requirement already satisfied: sqlalchemy in c:\\program files\\python311\\lib\\site-packages (2.0.38)\n",
      "Requirement already satisfied: psycopg2 in c:\\program files\\python311\\lib\\site-packages (2.9.10)\n",
      "Requirement already satisfied: matplotlib in c:\\program files\\python311\\lib\\site-packages (3.8.1)\n",
      "Requirement already satisfied: seaborn in c:\\program files\\python311\\lib\\site-packages (0.13.2)\n",
      "Requirement already satisfied: numpy<2,>=1.23.2 in c:\\program files\\python311\\lib\\site-packages (from pandas) (1.26.1)\n",
      "Requirement already satisfied: python-dateutil>=2.8.2 in c:\\program files\\python311\\lib\\site-packages (from pandas) (2.8.2)\n",
      "Requirement already satisfied: pytz>=2020.1 in c:\\program files\\python311\\lib\\site-packages (from pandas) (2023.3.post1)\n",
      "Requirement already satisfied: tzdata>=2022.1 in c:\\program files\\python311\\lib\\site-packages (from pandas) (2023.3)\n",
      "Requirement already satisfied: greenlet!=0.4.17 in c:\\program files\\python311\\lib\\site-packages (from sqlalchemy) (3.1.1)\n",
      "Requirement already satisfied: typing-extensions>=4.6.0 in c:\\program files\\python311\\lib\\site-packages (from sqlalchemy) (4.8.0)\n",
      "Requirement already satisfied: contourpy>=1.0.1 in c:\\program files\\python311\\lib\\site-packages (from matplotlib) (1.1.1)\n",
      "Requirement already satisfied: cycler>=0.10 in c:\\program files\\python311\\lib\\site-packages (from matplotlib) (0.12.1)\n",
      "Requirement already satisfied: fonttools>=4.22.0 in c:\\program files\\python311\\lib\\site-packages (from matplotlib) (4.43.1)\n",
      "Requirement already satisfied: kiwisolver>=1.3.1 in c:\\program files\\python311\\lib\\site-packages (from matplotlib) (1.4.5)\n",
      "Requirement already satisfied: packaging>=20.0 in c:\\program files\\python311\\lib\\site-packages (from matplotlib) (23.2)\n",
      "Requirement already satisfied: pillow>=8 in c:\\program files\\python311\\lib\\site-packages (from matplotlib) (10.1.0)\n",
      "Requirement already satisfied: pyparsing>=2.3.1 in c:\\program files\\python311\\lib\\site-packages (from matplotlib) (3.1.1)\n",
      "Requirement already satisfied: six>=1.5 in c:\\program files\\python311\\lib\\site-packages (from python-dateutil>=2.8.2->pandas) (1.16.0)\n"
     ]
    },
    {
     "name": "stderr",
     "output_type": "stream",
     "text": [
      "DEPRECATION: Loading egg at c:\\program files\\python311\\lib\\site-packages\\vboxapi-1.0-py3.11.egg is deprecated. pip 25.1 will enforce this behaviour change. A possible replacement is to use pip for package installation. Discussion can be found at https://github.com/pypa/pip/issues/12330\n"
     ]
    }
   ],
   "source": [
    "!pip install pandas sqlalchemy psycopg2 matplotlib seaborn "
   ]
  },
  {
   "cell_type": "code",
   "execution_count": 13,
   "metadata": {},
   "outputs": [],
   "source": [
    "import pandas as pd\n",
    "from sqlalchemy import create_engine, text\n",
    "import json\n",
    "import psycopg2"
   ]
  },
  {
   "cell_type": "code",
   "execution_count": 14,
   "metadata": {},
   "outputs": [
    {
     "name": "stdout",
     "output_type": "stream",
     "text": [
      "Datos del CSV cargados correctamente.\n",
      "        id                                              NAME      host id  \\\n",
      "0  1001254                Clean & quiet apt home by the park  80014485718   \n",
      "1  1002102                             Skylit Midtown Castle  52335172823   \n",
      "2  1002403               THE VILLAGE OF HARLEM....NEW YORK !  78829239556   \n",
      "3  1002755                                               NaN  85098326012   \n",
      "4  1003689  Entire Apt: Spacious Studio/Loft by central park  92037596077   \n",
      "\n",
      "  host_identity_verified host name neighbourhood group neighbourhood  \\\n",
      "0            unconfirmed  Madaline            Brooklyn    Kensington   \n",
      "1               verified     Jenna           Manhattan       Midtown   \n",
      "2                    NaN     Elise           Manhattan        Harlem   \n",
      "3            unconfirmed     Garry            Brooklyn  Clinton Hill   \n",
      "4               verified    Lyndon           Manhattan   East Harlem   \n",
      "\n",
      "        lat      long        country  ... service fee minimum nights  \\\n",
      "0  40.64749 -73.97237  United States  ...       $193            10.0   \n",
      "1  40.75362 -73.98377  United States  ...        $28            30.0   \n",
      "2  40.80902 -73.94190  United States  ...       $124             3.0   \n",
      "3  40.68514 -73.95976  United States  ...        $74            30.0   \n",
      "4  40.79851 -73.94399  United States  ...        $41            10.0   \n",
      "\n",
      "  number of reviews last review  reviews per month review rate number  \\\n",
      "0               9.0  10/19/2021               0.21                4.0   \n",
      "1              45.0   5/21/2022               0.38                4.0   \n",
      "2               0.0         NaN                NaN                5.0   \n",
      "3             270.0    7/5/2019               4.64                4.0   \n",
      "4               9.0  11/19/2018               0.10                3.0   \n",
      "\n",
      "  calculated host listings count  availability 365  \\\n",
      "0                            6.0             286.0   \n",
      "1                            2.0             228.0   \n",
      "2                            1.0             352.0   \n",
      "3                            1.0             322.0   \n",
      "4                            1.0             289.0   \n",
      "\n",
      "                                         house_rules license  \n",
      "0  Clean up and treat the home the way you'd like...     NaN  \n",
      "1  Pet friendly but please confirm with me if the...     NaN  \n",
      "2  I encourage you to use my kitchen, cooking and...     NaN  \n",
      "3                                                NaN     NaN  \n",
      "4  Please no smoking in the house, porch or on th...     NaN  \n",
      "\n",
      "[5 rows x 26 columns]\n"
     ]
    }
   ],
   "source": [
    "df = pd.read_csv(\"../data/Airbnb_Open_Data.csv\", low_memory=False, encoding='ISO-8859-1')\n",
    "print(\"Datos del CSV cargados correctamente.\")\n",
    "print(df.head())"
   ]
  },
  {
   "cell_type": "markdown",
   "metadata": {},
   "source": [
    "Conexión a la base de datos mediante las credenciales definidas"
   ]
  },
  {
   "cell_type": "code",
   "execution_count": 15,
   "metadata": {},
   "outputs": [
    {
     "name": "stdout",
     "output_type": "stream",
     "text": [
      "La base de datos 'airbnb' ya existe.\n"
     ]
    }
   ],
   "source": [
    "credentials = \"../credentials.json\"\n",
    "\n",
    "with open(credentials) as f:\n",
    "    creds = json.load(f)\n",
    "    \n",
    "DB_USER = creds[\"user\"]\n",
    "DB_PASSWORD = creds[\"password\"]\n",
    "DB_HOST = creds[\"host\"]\n",
    "DB_PORT = creds[\"port\"]\n",
    "DB_NAME = creds[\"database\"]\n",
    "\n",
    "creator_connection_string = f'postgresql+psycopg2://{DB_USER}:{DB_PASSWORD}@{DB_HOST}:{DB_PORT}/postgres'\n",
    "creator_engine = create_engine(creator_connection_string)\n",
    "\n",
    "with creator_engine.connect() as connection:\n",
    "    connection.execution_options(isolation_level=\"AUTOCOMMIT\")\n",
    "    result = connection.execute(\n",
    "        text(f\"SELECT 1 FROM pg_database WHERE datname = '{DB_NAME}'\")\n",
    "    )\n",
    "    \n",
    "    if not result.scalar():\n",
    "        connection.execute(text(f\"CREATE DATABASE {DB_NAME}\"))\n",
    "        print(f\"Base de datos '{DB_NAME}' creada exitosamente!\")\n",
    "    else:\n",
    "        print(f\"La base de datos '{DB_NAME}' ya existe.\")"
   ]
  },
  {
   "cell_type": "code",
   "execution_count": 16,
   "metadata": {},
   "outputs": [
    {
     "name": "stdout",
     "output_type": "stream",
     "text": [
      "Tabla 'airbnb_data' creada y datos cargados en la base de datos 'airbnb'.\n"
     ]
    }
   ],
   "source": [
    "connection_string = f'postgresql+psycopg2://{DB_USER}:{DB_PASSWORD}@{DB_HOST}:{DB_PORT}/{DB_NAME}'\n",
    "engine = create_engine(connection_string)\n",
    "\n",
    "table_name = \"airbnb_data\"\n",
    "df.to_sql(table_name, engine, if_exists='replace', index=False)\n",
    "\n",
    "print(f\"Tabla '{table_name}' creada y datos cargados en la base de datos '{DB_NAME}'.\")"
   ]
  },
  {
   "cell_type": "code",
   "execution_count": 17,
   "metadata": {},
   "outputs": [
    {
     "name": "stdout",
     "output_type": "stream",
     "text": [
      "Primeros 5 registros de la tabla 'airbnb_data':\n",
      "        id                                              NAME      host id  \\\n",
      "0  1001254                Clean & quiet apt home by the park  80014485718   \n",
      "1  1002102                             Skylit Midtown Castle  52335172823   \n",
      "2  1002403               THE VILLAGE OF HARLEM....NEW YORK !  78829239556   \n",
      "3  1002755                                              None  85098326012   \n",
      "4  1003689  Entire Apt: Spacious Studio/Loft by central park  92037596077   \n",
      "\n",
      "  host_identity_verified host name neighbourhood group neighbourhood  \\\n",
      "0            unconfirmed  Madaline            Brooklyn    Kensington   \n",
      "1               verified     Jenna           Manhattan       Midtown   \n",
      "2                   None     Elise           Manhattan        Harlem   \n",
      "3            unconfirmed     Garry            Brooklyn  Clinton Hill   \n",
      "4               verified    Lyndon           Manhattan   East Harlem   \n",
      "\n",
      "        lat      long        country  ... service fee  minimum nights  \\\n",
      "0  40.64749 -73.97237  United States  ...       $193             10.0   \n",
      "1  40.75362 -73.98377  United States  ...        $28             30.0   \n",
      "2  40.80902 -73.94190  United States  ...       $124              3.0   \n",
      "3  40.68514 -73.95976  United States  ...        $74             30.0   \n",
      "4  40.79851 -73.94399  United States  ...        $41             10.0   \n",
      "\n",
      "  number of reviews last review  reviews per month review rate number  \\\n",
      "0               9.0  10/19/2021               0.21                4.0   \n",
      "1              45.0   5/21/2022               0.38                4.0   \n",
      "2               0.0        None                NaN                5.0   \n",
      "3             270.0    7/5/2019               4.64                4.0   \n",
      "4               9.0  11/19/2018               0.10                3.0   \n",
      "\n",
      "  calculated host listings count  availability 365  \\\n",
      "0                            6.0             286.0   \n",
      "1                            2.0             228.0   \n",
      "2                            1.0             352.0   \n",
      "3                            1.0             322.0   \n",
      "4                            1.0             289.0   \n",
      "\n",
      "                                         house_rules license  \n",
      "0  Clean up and treat the home the way you'd like...    None  \n",
      "1  Pet friendly but please confirm with me if the...    None  \n",
      "2  I encourage you to use my kitchen, cooking and...    None  \n",
      "3                                               None    None  \n",
      "4  Please no smoking in the house, porch or on th...    None  \n",
      "\n",
      "[5 rows x 26 columns]\n"
     ]
    }
   ],
   "source": [
    "with engine.connect() as connection:\n",
    "    query = f\"SELECT * FROM {table_name} LIMIT 5;\"\n",
    "    df_5filas = pd.read_sql(query, connection)\n",
    "    print(f\"Primeros 5 registros de la tabla '{table_name}':\")\n",
    "    print(df_5filas)"
   ]
  },
  {
   "cell_type": "code",
   "execution_count": 18,
   "metadata": {},
   "outputs": [
    {
     "name": "stdout",
     "output_type": "stream",
     "text": [
      "El archivo CSV tiene un total de 102599 filas.\n",
      "La tabla 'airbnb_data' tiene un total de 102599 filas.\n"
     ]
    }
   ],
   "source": [
    "total_csv_rows = len(df)\n",
    "print(f\"El archivo CSV tiene un total de {total_csv_rows} filas.\")\n",
    "\n",
    "with engine.connect() as connection:\n",
    "    result = connection.execute(text(f\"SELECT COUNT(*) FROM {table_name};\"))\n",
    "    total_rows = result.scalar()\n",
    "    print(f\"La tabla '{table_name}' tiene un total de {total_rows} filas.\")"
   ]
  }
 ],
 "metadata": {
  "kernelspec": {
   "display_name": "Python 3",
   "language": "python",
   "name": "python3"
  },
  "language_info": {
   "codemirror_mode": {
    "name": "ipython",
    "version": 3
   },
   "file_extension": ".py",
   "mimetype": "text/x-python",
   "name": "python",
   "nbconvert_exporter": "python",
   "pygments_lexer": "ipython3",
   "version": "3.11.5"
  }
 },
 "nbformat": 4,
 "nbformat_minor": 2
}
