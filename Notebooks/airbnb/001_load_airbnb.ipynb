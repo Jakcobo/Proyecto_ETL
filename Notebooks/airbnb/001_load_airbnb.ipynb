{
 "cells": [
  {
   "cell_type": "code",
   "execution_count": 1,
   "metadata": {},
   "outputs": [],
   "source": [
    "# Celda 1: Definición de Librerías\n",
    "import pandas as pd\n",
    "from sqlalchemy import create_engine\n",
    "import os\n",
    "from dotenv import load_dotenv\n",
    "import logging"
   ]
  },
  {
   "cell_type": "code",
   "execution_count": 2,
   "metadata": {},
   "outputs": [
    {
     "name": "stderr",
     "output_type": "stream",
     "text": [
      "2025-05-17 14:34:37,206 - INFO - Inicio del notebook de la carga 001_load_airbnb\n"
     ]
    }
   ],
   "source": [
    "logging.basicConfig(\n",
    "    level=logging.INFO,\n",
    "    format='%(asctime)s - %(levelname)s - %(message)s',\n",
    "    handlers=[\n",
    "        logging.FileHandler(\"001_load_airbnb.log\"),\n",
    "        logging.StreamHandler()\n",
    "    ]\n",
    ")\n",
    "\n",
    "logging.info(\"Inicio del notebook de la carga 001_load_airbnb\")"
   ]
  },
  {
   "cell_type": "code",
   "execution_count": 4,
   "metadata": {},
   "outputs": [
    {
     "name": "stderr",
     "output_type": "stream",
     "text": [
      "2025-05-17 14:37:01,653 - INFO - Ruta del archivo CSV: /home/y4xul/Proyecto_ETL/data/raw/Airbnb_Open_Data.csv\n",
      "2025-05-17 14:37:01,657 - INFO - Ruta del archivo .env: /home/y4xul/Proyecto_ETL/env/.env\n",
      "2025-05-17 14:37:01,660 - INFO - Nombre de la tabla en PostgreSQL: raw_airbnb\n",
      "2025-05-17 14:37:01,669 - ERROR - Una o más variables de entorno de PostgreSQL no están definidas. Revisa tu archivo .env.\n"
     ]
    },
    {
     "ename": "ValueError",
     "evalue": "Faltan credenciales de PostgreSQL en el archivo .env",
     "output_type": "error",
     "traceback": [
      "\u001b[31m---------------------------------------------------------------------------\u001b[39m",
      "\u001b[31mValueError\u001b[39m                                Traceback (most recent call last)",
      "\u001b[36mCell\u001b[39m\u001b[36m \u001b[39m\u001b[32mIn[4]\u001b[39m\u001b[32m, line 22\u001b[39m\n\u001b[32m     20\u001b[39m     logging.error(\u001b[33m\"\u001b[39m\u001b[33mUna o más variables de entorno de PostgreSQL no están definidas. Revisa tu archivo .env.\u001b[39m\u001b[33m\"\u001b[39m)\n\u001b[32m     21\u001b[39m     \u001b[38;5;66;03m# Puedes decidir si detener el script aquí o continuar con valores por defecto (no recomendado para producción)\u001b[39;00m\n\u001b[32m---> \u001b[39m\u001b[32m22\u001b[39m     \u001b[38;5;28;01mraise\u001b[39;00m \u001b[38;5;167;01mValueError\u001b[39;00m(\u001b[33m\"\u001b[39m\u001b[33mFaltan credenciales de PostgreSQL en el archivo .env\u001b[39m\u001b[33m\"\u001b[39m)\n\u001b[32m     23\u001b[39m \u001b[38;5;28;01melse\u001b[39;00m:\n\u001b[32m     24\u001b[39m     logging.info(\u001b[33m\"\u001b[39m\u001b[33mVariables de entorno para PostgreSQL cargadas correctamente.\u001b[39m\u001b[33m\"\u001b[39m)\n",
      "\u001b[31mValueError\u001b[39m: Faltan credenciales de PostgreSQL en el archivo .env"
     ]
    }
   ],
   "source": [
    "# Celda 3: Definición de Variables Constantes y Carga de .env\n",
    "CSV_FILE_PATH = '/home/y4xul/Proyecto_ETL/data/raw/Airbnb_Open_Data.csv'\n",
    "ENV_FILE_PATH = '/home/y4xul/Proyecto_ETL/env/.env'\n",
    "TABLE_NAME = 'raw_airbnb' # Nombre de la tabla en PostgreSQL\n",
    "\n",
    "logging.info(f\"Ruta del archivo CSV: {CSV_FILE_PATH}\")\n",
    "logging.info(f\"Ruta del archivo .env: {ENV_FILE_PATH}\")\n",
    "logging.info(f\"Nombre de la tabla en PostgreSQL: {TABLE_NAME}\")\n",
    "\n",
    "# Cargar variables de entorno\n",
    "load_dotenv(ENV_FILE_PATH)\n",
    "\n",
    "POSTGRES_USER = os.getenv('POSTGRES_USER')\n",
    "POSTGRES_PASSWORD = os.getenv('POSTGRES_PASSWORD')\n",
    "POSTGRES_HOST = os.getenv('POSTGRES_HOST')\n",
    "POSTGRES_PORT = os.getenv('POSTGRES_PORT')\n",
    "POSTGRES_DATABASE = os.getenv('POSTGRES_DATABASE')\n",
    "\n",
    "if not all([POSTGRES_USER, POSTGRES_PASSWORD, POSTGRES_HOST, POSTGRES_PORT, POSTGRES_DATABASE]):\n",
    "    logging.error(\"Una o más variables de entorno de PostgreSQL no están definidas. Revisa tu archivo .env.\")\n",
    "    # Puedes decidir si detener el script aquí o continuar con valores por defecto (no recomendado para producción)\n",
    "    raise ValueError(\"Faltan credenciales de PostgreSQL en el archivo .env\")\n",
    "else:\n",
    "    logging.info(\"Variables de entorno para PostgreSQL cargadas correctamente.\")"
   ]
  },
  {
   "cell_type": "code",
   "execution_count": 4,
   "metadata": {},
   "outputs": [
    {
     "name": "stderr",
     "output_type": "stream",
     "text": [
      "2025-05-16 22:04:18,396 - INFO - DataFrame 'df_airbnb' predefinido como un DataFrame vacío.\n"
     ]
    }
   ],
   "source": [
    "# Celda 4: Pre-definición del DataFrame\n",
    "df_airbnb = pd.DataFrame()\n",
    "logging.info(\"DataFrame 'df_airbnb' predefinido como un DataFrame vacío.\")"
   ]
  },
  {
   "cell_type": "code",
   "execution_count": 5,
   "metadata": {},
   "outputs": [
    {
     "name": "stderr",
     "output_type": "stream",
     "text": [
      "2025-05-16 22:04:18,402 - INFO - Intentando cargar el archivo CSV: /home/nicolas/Escritorio/proyecto ETL/develop/data/raw/Airbnb_Open_Data.csv\n",
      "2025-05-16 22:04:18,835 - INFO - Archivo CSV '/home/nicolas/Escritorio/proyecto ETL/develop/data/raw/Airbnb_Open_Data.csv' cargado exitosamente.\n",
      "2025-05-16 22:04:18,835 - INFO - El DataFrame tiene 102599 filas y 26 columnas.\n"
     ]
    }
   ],
   "source": [
    "# Celda 5: Carga del DataFrame desde el archivo CSV\n",
    "try:\n",
    "    logging.info(f\"Intentando cargar el archivo CSV: {CSV_FILE_PATH}\")\n",
    "    df_airbnb = pd.read_csv(CSV_FILE_PATH, low_memory=False)\n",
    "    logging.info(f\"Archivo CSV '{CSV_FILE_PATH}' cargado exitosamente.\")\n",
    "    logging.info(f\"El DataFrame tiene {df_airbnb.shape[0]} filas y {df_airbnb.shape[1]} columnas.\")\n",
    "except FileNotFoundError:\n",
    "    logging.error(f\"Error: Archivo CSV no encontrado en '{CSV_FILE_PATH}'\")\n",
    "    raise\n",
    "except Exception as e:\n",
    "    logging.error(f\"Ocurrió un error al cargar el CSV '{CSV_FILE_PATH}': {e}\")\n",
    "    raise"
   ]
  },
  {
   "cell_type": "code",
   "execution_count": 6,
   "metadata": {},
   "outputs": [
    {
     "name": "stderr",
     "output_type": "stream",
     "text": [
      "2025-05-16 22:04:18,840 - INFO - Mostrando las primeras 5 filas del DataFrame df_airbnb (formato markdown):\n",
      "2025-05-16 22:04:18,847 - INFO - \n",
      "|      id | NAME                                             |     host id | host_identity_verified   | host name   | neighbourhood group   | neighbourhood   |     lat |     long | country       | country code   | instant_bookable   | cancellation_policy   | room type       |   Construction year | price   | service fee   |   minimum nights |   number of reviews | last review   |   reviews per month |   review rate number |   calculated host listings count |   availability 365 | house_rules                                                                                                                                                                                                                                                                                                                                                                                                         |   license |\n",
      "|--------:|:-------------------------------------------------|------------:|:-------------------------|:------------|:----------------------|:----------------|--------:|---------:|:--------------|:---------------|:-------------------|:----------------------|:----------------|--------------------:|:--------|:--------------|-----------------:|--------------------:|:--------------|--------------------:|---------------------:|---------------------------------:|-------------------:|:--------------------------------------------------------------------------------------------------------------------------------------------------------------------------------------------------------------------------------------------------------------------------------------------------------------------------------------------------------------------------------------------------------------------|----------:|\n",
      "| 1001254 | Clean & quiet apt home by the park               | 80014485718 | unconfirmed              | Madaline    | Brooklyn              | Kensington      | 40.6475 | -73.9724 | United States | US             | False              | strict                | Private room    |                2020 | $966    | $193          |               10 |                   9 | 10/19/2021    |                0.21 |                    4 |                                6 |                286 | Clean up and treat the home the way you'd like your home to be treated.  No smoking.                                                                                                                                                                                                                                                                                                                                |       nan |\n",
      "| 1002102 | Skylit Midtown Castle                            | 52335172823 | verified                 | Jenna       | Manhattan             | Midtown         | 40.7536 | -73.9838 | United States | US             | False              | moderate              | Entire home/apt |                2007 | $142    | $28           |               30 |                  45 | 5/21/2022     |                0.38 |                    4 |                                2 |                228 | Pet friendly but please confirm with me if the pet you are planning on bringing with you is OK. I have a cute and quiet mixed chihuahua. I could accept more guests (for an extra fee) but this also needs to be confirmed beforehand. Also friends traveling together could sleep in separate beds for an extra fee (the second bed is either a sofa bed or inflatable bed). Smoking is only allowed on the porch. |       nan |\n",
      "| 1002403 | THE VILLAGE OF HARLEM....NEW YORK !              | 78829239556 | nan                      | Elise       | Manhattan             | Harlem          | 40.809  | -73.9419 | United States | US             | True               | flexible              | Private room    |                2005 | $620    | $124          |                3 |                   0 | nan           |              nan    |                    5 |                                1 |                352 | I encourage you to use my kitchen, cooking and laundry facilities. There is no additional charge to use the washer/dryer in the basement.  No smoking, inside or outside. Come home as late as you want.  If you come home stumbling drunk, it's OK the first time. If you do it again, and you wake up me or the neighbors downstairs, we will be annoyed.  (Just so you know . . . )                              |       nan |\n",
      "| 1002755 | nan                                              | 85098326012 | unconfirmed              | Garry       | Brooklyn              | Clinton Hill    | 40.6851 | -73.9598 | United States | US             | True               | moderate              | Entire home/apt |                2005 | $368    | $74           |               30 |                 270 | 7/5/2019      |                4.64 |                    4 |                                1 |                322 | nan                                                                                                                                                                                                                                                                                                                                                                                                                 |       nan |\n",
      "| 1003689 | Entire Apt: Spacious Studio/Loft by central park | 92037596077 | verified                 | Lyndon      | Manhattan             | East Harlem     | 40.7985 | -73.944  | United States | US             | False              | moderate              | Entire home/apt |                2009 | $204    | $41           |               10 |                   9 | 11/19/2018    |                0.1  |                    3 |                                1 |                289 | Please no smoking in the house, porch or on the property (you can go to the nearby corner).  Reasonable quiet after 10:30 pm.  Please remove shoes in the house.                                                                                                                                                                                                                                                    |       nan |\n"
     ]
    }
   ],
   "source": [
    "# Celda 6: Verificación de la carga del DataFrame\n",
    "if not df_airbnb.empty:\n",
    "    logging.info(\"Mostrando las primeras 5 filas del DataFrame df_airbnb (formato markdown):\")\n",
    "    logging.info(f\"\\n{df_airbnb.head().to_markdown(index=False)}\")\n",
    "else:\n",
    "    logging.warning(\"El DataFrame df_airbnb está vacío. No se puede mostrar el head.\")"
   ]
  },
  {
   "cell_type": "code",
   "execution_count": 7,
   "metadata": {},
   "outputs": [
    {
     "name": "stderr",
     "output_type": "stream",
     "text": [
      "2025-05-16 22:04:18,871 - INFO - Motor de SQLAlchemy para PostgreSQL creado.\n",
      "WARNING:  la base de datos «airbnb» tiene una discordancia de versión de ordenamiento (“collation”)\n",
      "DETAIL:  La base de datos fue creada usando la versión de ordenamiento 2.31, pero el sistema operativo provee la versión 2.35.\n",
      "HINT:  Reconstruya todos los objetos en esta base de datos que usen el ordenamiento por omisión y ejecute ALTER DATABASE airbnb REFRESH COLLATION VERSION, o construya PostgreSQL con la versión correcta de la biblioteca.\n",
      "2025-05-16 22:04:18,881 - INFO - Conexión a la base de datos PostgreSQL establecida y verificada exitosamente.\n"
     ]
    }
   ],
   "source": [
    "# Celda 7: Crear motor de conexión a PostgreSQL\n",
    "if not df_airbnb.empty:\n",
    "    try:\n",
    "        DATABASE_URL = f\"postgresql+psycopg2://{POSTGRES_USER}:{POSTGRES_PASSWORD}@{POSTGRES_HOST}:{POSTGRES_PORT}/{POSTGRES_DATABASE}\"\n",
    "        engine = create_engine(DATABASE_URL)\n",
    "        logging.info(\"Motor de SQLAlchemy para PostgreSQL creado.\")\n",
    "        \n",
    "        with engine.connect() as connection:\n",
    "            logging.info(\"Conexión a la base de datos PostgreSQL establecida y verificada exitosamente.\")\n",
    "    except Exception as e:\n",
    "        logging.error(f\"Error al crear el motor de SQLAlchemy o al conectar a PostgreSQL: {e}\")\n",
    "        engine = None\n",
    "else:\n",
    "    logging.warning(\"El DataFrame está vacío, se omite la creación del motor de DB.\")"
   ]
  },
  {
   "cell_type": "code",
   "execution_count": 8,
   "metadata": {},
   "outputs": [
    {
     "name": "stderr",
     "output_type": "stream",
     "text": [
      "2025-05-16 22:04:18,889 - INFO - Intentando crear/reemplazar la tabla vacía 'raw_airbnb' en PostgreSQL.\n",
      "2025-05-16 22:04:18,918 - INFO - Tabla 'raw_airbnb' creada/reemplazada exitosamente (estructura definida, sin datos).\n"
     ]
    }
   ],
   "source": [
    "# Celda 8: Crear tabla vacía en PostgreSQL (si no existe o reemplazarla)\n",
    "if not df_airbnb.empty and 'engine' in locals() and engine is not None:\n",
    "    try:\n",
    "        logging.info(f\"Intentando crear/reemplazar la tabla vacía '{TABLE_NAME}' en PostgreSQL.\")\n",
    "        df_airbnb.head(0).to_sql(TABLE_NAME, engine, if_exists='replace', index=False)\n",
    "        logging.info(f\"Tabla '{TABLE_NAME}' creada/reemplazada exitosamente (estructura definida, sin datos).\")\n",
    "    except Exception as e:\n",
    "        logging.error(f\"Error al crear la tabla '{TABLE_NAME}' en PostgreSQL: {e}\")\n",
    "else:\n",
    "    if df_airbnb.empty:\n",
    "        logging.warning(\"DataFrame está vacío. No se intentará crear la tabla en la base de datos.\")\n",
    "    if 'engine' not in locals() or engine is None:\n",
    "        logging.warning(\"Motor de base de datos no inicializado. No se intentará crear la tabla.\")"
   ]
  },
  {
   "cell_type": "code",
   "execution_count": 9,
   "metadata": {},
   "outputs": [
    {
     "name": "stderr",
     "output_type": "stream",
     "text": [
      "2025-05-16 22:04:18,924 - INFO - Intentando insertar datos del DataFrame en la tabla 'raw_airbnb'.\n",
      "2025-05-16 22:04:24,674 - INFO - Datos insertados exitosamente en la tabla 'raw_airbnb'.\n"
     ]
    }
   ],
   "source": [
    "# Celda 9: Insertar el DataFrame en la tabla de PostgreSQL\n",
    "if not df_airbnb.empty and 'engine' in locals() and engine is not None:\n",
    "    try:\n",
    "        logging.info(f\"Intentando insertar datos del DataFrame en la tabla '{TABLE_NAME}'.\")\n",
    "        df_airbnb.to_sql(TABLE_NAME, engine, if_exists='append', index=False)\n",
    "        logging.info(f\"Datos insertados exitosamente en la tabla '{TABLE_NAME}'.\")\n",
    "    except Exception as e:\n",
    "        logging.error(f\"Error al insertar datos en la tabla '{TABLE_NAME}': {e}\")\n",
    "else:\n",
    "    if df_airbnb.empty:\n",
    "        logging.warning(\"DataFrame está vacío. No hay datos para insertar en la base de datos.\")\n",
    "    if 'engine' not in locals() or engine is None:\n",
    "        logging.warning(\"Motor de base de datos no inicializado. No se pueden insertar datos.\")"
   ]
  },
  {
   "cell_type": "code",
   "execution_count": 10,
   "metadata": {},
   "outputs": [
    {
     "name": "stderr",
     "output_type": "stream",
     "text": [
      "2025-05-16 22:04:24,680 - INFO - Consultando las primeras 5 filas de la tabla 'raw_airbnb' desde PostgreSQL.\n",
      "2025-05-16 22:04:24,684 - INFO - Primeras 5 filas obtenidas de PostgreSQL (formato markdown):\n"
     ]
    },
    {
     "name": "stdout",
     "output_type": "stream",
     "text": [
      "|      id | NAME                                             |     host id | host_identity_verified   | host name   | neighbourhood group   | neighbourhood   |     lat |     long | country       | country code   | instant_bookable   | cancellation_policy   | room type       |   Construction year | price   | service fee   |   minimum nights |   number of reviews | last review   |   reviews per month |   review rate number |   calculated host listings count |   availability 365 | house_rules                                                                                                                                                                                                                                                                                                                                                                                                         | license   |\n",
      "|--------:|:-------------------------------------------------|------------:|:-------------------------|:------------|:----------------------|:----------------|--------:|---------:|:--------------|:---------------|:-------------------|:----------------------|:----------------|--------------------:|:--------|:--------------|-----------------:|--------------------:|:--------------|--------------------:|---------------------:|---------------------------------:|-------------------:|:--------------------------------------------------------------------------------------------------------------------------------------------------------------------------------------------------------------------------------------------------------------------------------------------------------------------------------------------------------------------------------------------------------------------|:----------|\n",
      "| 1001254 | Clean & quiet apt home by the park               | 80014485718 | unconfirmed              | Madaline    | Brooklyn              | Kensington      | 40.6475 | -73.9724 | United States | US             | false              | strict                | Private room    |                2020 | $966    | $193          |               10 |                   9 | 10/19/2021    |                0.21 |                    4 |                                6 |                286 | Clean up and treat the home the way you'd like your home to be treated.  No smoking.                                                                                                                                                                                                                                                                                                                                |           |\n",
      "| 1002102 | Skylit Midtown Castle                            | 52335172823 | verified                 | Jenna       | Manhattan             | Midtown         | 40.7536 | -73.9838 | United States | US             | false              | moderate              | Entire home/apt |                2007 | $142    | $28           |               30 |                  45 | 5/21/2022     |                0.38 |                    4 |                                2 |                228 | Pet friendly but please confirm with me if the pet you are planning on bringing with you is OK. I have a cute and quiet mixed chihuahua. I could accept more guests (for an extra fee) but this also needs to be confirmed beforehand. Also friends traveling together could sleep in separate beds for an extra fee (the second bed is either a sofa bed or inflatable bed). Smoking is only allowed on the porch. |           |\n",
      "| 1002403 | THE VILLAGE OF HARLEM....NEW YORK !              | 78829239556 |                          | Elise       | Manhattan             | Harlem          | 40.809  | -73.9419 | United States | US             | true               | flexible              | Private room    |                2005 | $620    | $124          |                3 |                   0 |               |              nan    |                    5 |                                1 |                352 | I encourage you to use my kitchen, cooking and laundry facilities. There is no additional charge to use the washer/dryer in the basement.  No smoking, inside or outside. Come home as late as you want.  If you come home stumbling drunk, it's OK the first time. If you do it again, and you wake up me or the neighbors downstairs, we will be annoyed.  (Just so you know . . . )                              |           |\n",
      "| 1002755 |                                                  | 85098326012 | unconfirmed              | Garry       | Brooklyn              | Clinton Hill    | 40.6851 | -73.9598 | United States | US             | true               | moderate              | Entire home/apt |                2005 | $368    | $74           |               30 |                 270 | 7/5/2019      |                4.64 |                    4 |                                1 |                322 |                                                                                                                                                                                                                                                                                                                                                                                                                     |           |\n",
      "| 1003689 | Entire Apt: Spacious Studio/Loft by central park | 92037596077 | verified                 | Lyndon      | Manhattan             | East Harlem     | 40.7985 | -73.944  | United States | US             | false              | moderate              | Entire home/apt |                2009 | $204    | $41           |               10 |                   9 | 11/19/2018    |                0.1  |                    3 |                                1 |                289 | Please no smoking in the house, porch or on the property (you can go to the nearby corner).  Reasonable quiet after 10:30 pm.  Please remove shoes in the house.                                                                                                                                                                                                                                                    |           |\n"
     ]
    }
   ],
   "source": [
    "# Celda 10: Verificar los primeros 5 datos desde la base de datos PostgreSQL\n",
    "if 'engine' in locals() and engine is not None:\n",
    "    try:\n",
    "        logging.info(f\"Consultando las primeras 5 filas de la tabla '{TABLE_NAME}' desde PostgreSQL.\")\n",
    "        query = f\"SELECT * FROM \\\"{TABLE_NAME}\\\" LIMIT 5;\"\n",
    "        df_from_db = pd.read_sql_query(query, engine)\n",
    "        logging.info(\"Primeras 5 filas obtenidas de PostgreSQL (formato markdown):\")\n",
    "\n",
    "        if not df_from_db.empty:\n",
    "            print(df_from_db.to_markdown(index=False))\n",
    "        else:\n",
    "            logging.info(\"La consulta no devolvió filas o la tabla está vacía.\")\n",
    "\n",
    "    except Exception as e:\n",
    "        logging.error(f\"Error al consultar datos desde la tabla '{TABLE_NAME}' en PostgreSQL: {e}\")\n",
    "else:\n",
    "    logging.warning(\"Motor de base de datos no inicializado. No se puede verificar la tabla.\")"
   ]
  },
  {
   "cell_type": "code",
   "execution_count": 11,
   "metadata": {},
   "outputs": [
    {
     "name": "stderr",
     "output_type": "stream",
     "text": [
      "2025-05-16 22:04:24,692 - INFO - Script de carga de datos finalizado.\n",
      "2025-05-16 22:04:24,693 - INFO - Conexiones del motor de SQLAlchemy dispuestas (cerradas).\n"
     ]
    }
   ],
   "source": [
    "# Celda 11: Finalización (Opcional: cerrar conexiones si es necesario, aunque SQLAlchemy suele manejarlas)\n",
    "logging.info(\"Script de carga de datos finalizado.\")\n",
    "if 'engine' in locals() and engine is not None:\n",
    "    engine.dispose()\n",
    "    logging.info(\"Conexiones del motor de SQLAlchemy dispuestas (cerradas).\")\n",
    "else:\n",
    "    logging.info(\"Celda 11: Script finalizado.\")"
   ]
  }
 ],
 "metadata": {
  "kernelspec": {
   "display_name": "venv",
   "language": "python",
   "name": "python3"
  },
  "language_info": {
   "codemirror_mode": {
    "name": "ipython",
    "version": 3
   },
   "file_extension": ".py",
   "mimetype": "text/x-python",
   "name": "python",
   "nbconvert_exporter": "python",
   "pygments_lexer": "ipython3",
   "version": "3.12.3"
  }
 },
 "nbformat": 4,
 "nbformat_minor": 2
}
