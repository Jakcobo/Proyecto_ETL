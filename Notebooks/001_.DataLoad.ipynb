{
 "cells": [
  {
   "cell_type": "markdown",
   "metadata": {},
   "source": [
    "## Enviroment"
   ]
  },
  {
   "cell_type": "code",
   "execution_count": 1,
   "metadata": {},
   "outputs": [],
   "source": [
    "import pandas as pd\n",
    "from sqlalchemy import create_engine, text\n",
    "import json\n",
    "import psycopg2"
   ]
  },
  {
   "cell_type": "markdown",
   "metadata": {},
   "source": [
    "Conexión a la base de datos mediante las credenciales definidas"
   ]
  },
  {
   "cell_type": "code",
   "execution_count": null,
   "metadata": {},
   "outputs": [],
   "source": [
    "\n",
    "with open(\"../credentials.json\") as f:\n",
    "    creds = json.load(f)\n",
    "    \n",
    "DB_USER = creds[\"user\"]\n",
    "DB_PASSWORD = creds[\"password\"]\n",
    "DB_HOST = creds[\"host\"]\n",
    "DB_PORT = creds[\"port\"]\n",
    "DB_NAME = creds[\"database\"]\n",
    "\n",
    "\n",
    "df = pd.read_csv(\"../data/Airbnb_Open_Data.csv\", low_memory=False, encoding='ISO-8859-1')\n",
    "print(\"Datos del CSV cargados correctamente.\")\n",
    "print(df.head()) \n",
    "\n",
    "# Contar el número total de filas en el CSV\n",
    "total_filas_csv = len(df)\n",
    "print(f\"El archivo CSV tiene un total de {total_filas_csv} filas.\")\n",
    "\n",
    "# Crear conexión a la base de datos ya creada\n",
    "connection_string = f'postgresql+psycopg2://{DB_USER}:{DB_PASSWORD}@{DB_HOST}:{DB_PORT}/{DB_NAME}'\n",
    "engine = create_engine(connection_string)\n",
    "\n",
    "# Crear la tabla en la base de datos y cargar los datos\n",
    "table_name = \"airbnb_data\"  # Nombre de la nueva tabla\n",
    "df.to_sql(table_name, engine, if_exists='replace', index=False)\n",
    "\n",
    "print(f\"Tabla '{table_name}' creada y datos cargados en la base de datos '{DB_NAME}'.\")\n",
    "\n",
    "# Verificar los datos en la nueva tabla\n",
    "with engine.connect() as connection:\n",
    "    result = connection.execute(text(f\"SELECT * FROM {table_name} LIMIT 5;\"))\n",
    "    print(f\"Primeros 5 registros de la tabla '{table_name}':\")\n",
    "    for row in result:\n",
    "        print(row)"
   ]
  },
  {
   "cell_type": "code",
   "execution_count": 5,
   "metadata": {},
   "outputs": [
    {
     "name": "stdout",
     "output_type": "stream",
     "text": [
      "El archivo CSV tiene un total de 102599 filas.\n",
      "La tabla 'airbnb_data' tiene un total de 102599 filas.\n"
     ]
    }
   ],
   "source": [
    "# Contar el número total de filas en el DataFrame\n",
    "total_csv_rows = len(df)\n",
    "print(f\"El archivo CSV tiene un total de {total_csv_rows} filas.\")\n",
    "\n",
    "# Verificar el número total de filas en la tabla\n",
    "with engine.connect() as connection:\n",
    "    result = connection.execute(text(f\"SELECT COUNT(*) FROM {table_name};\"))\n",
    "    total_rows = result.scalar()  # Obtener el valor del conteo\n",
    "    print(f\"La tabla '{table_name}' tiene un total de {total_rows} filas.\")"
   ]
  },
  {
   "cell_type": "code",
   "execution_count": null,
   "metadata": {},
   "outputs": [],
   "source": [
    "with engine.connect() as connection:\n",
    "    # Consulta para obtener los primeros 20 registros de la tabla\n",
    "    query = f\"SELECT * FROM {table_name} LIMIT 20;\"\n",
    "    \n",
    "    # Cargar los datos en un DataFrame de pandas\n",
    "    df = pd.read_sql(query, connection)\n",
    "    \n",
    "    # Mostrar el DataFrame en formato tabular\n",
    "    print(f\"Primeros 20 registros de la tabla '{table_name}':\")\n",
    "    print(df)"
   ]
  },
  {
   "cell_type": "code",
   "execution_count": null,
   "metadata": {},
   "outputs": [],
   "source": [
    "# Cargar el dataset\n",
    "df = pd.read_csv(\"../data/Airbnb_Open_Data.csv\", low_memory=False, encoding='ISO-8859-1')\n",
    "\n",
    "# Revisión inicial\n",
    "print(f\"Filas: {df.shape[0]}, Columnas: {df.shape[1]}\")\n",
    "print(df.info())  # Tipos de datos y valores no nulos\n",
    "print(df.isnull().sum())  # Conteo de valores nulos por columna"
   ]
  }
 ],
 "metadata": {
  "kernelspec": {
   "display_name": "Python 3",
   "language": "python",
   "name": "python3"
  },
  "language_info": {
   "codemirror_mode": {
    "name": "ipython",
    "version": 3
   },
   "file_extension": ".py",
   "mimetype": "text/x-python",
   "name": "python",
   "nbconvert_exporter": "python",
   "pygments_lexer": "ipython3",
   "version": "3.11.5"
  }
 },
 "nbformat": 4,
 "nbformat_minor": 2
}
