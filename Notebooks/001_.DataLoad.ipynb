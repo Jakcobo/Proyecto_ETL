{
 "cells": [
  {
   "cell_type": "markdown",
   "metadata": {},
   "source": [
    "# Data load "
   ]
  },
  {
   "cell_type": "markdown",
   "metadata": {},
   "source": [
    "# Environment\n",
    "\n",
    "---"
   ]
  },
  {
   "cell_type": "code",
   "execution_count": 82,
   "metadata": {},
   "outputs": [],
   "source": [
    "#!pip install pandas sqlalchemy psycopg2 # Postgres DB library\n",
    "\n",
    "import pandas as pd\n",
    "from sqlalchemy import create_engine\n",
    "import json\n",
    "from sqlalchemy import text\n",
    "import re"
   ]
  },
  {
   "cell_type": "code",
   "execution_count": 106,
   "metadata": {},
   "outputs": [],
   "source": [
    "# Cargar el DataFrame\n",
    "df = pd.read_csv(\"../data/Airbnb_Open_Data.csv\", low_memory=False, encoding='ISO-8859-1')\n",
    "\n",
    "# Función para identificar valores no ASCII\n",
    "def reemplazar_no_ascii(valor):\n",
    "    if isinstance(valor, str) and not valor.isascii():\n",
    "        return \"999999\"\n",
    "    return valor\n",
    "\n",
    "# Función para limpiar caracteres especiales en texto\n",
    "def limpiar_texto(texto):\n",
    "    if isinstance(texto, str) and not re.match(r'^[A-Za-z0-9 .,!?]+$', texto):\n",
    "        return \"999999\"\n",
    "    return texto\n",
    "\n",
    "# Función para validar datos numéricos\n",
    "def validar_numericos(valor):\n",
    "    try:\n",
    "        num = float(valor)\n",
    "        if num < 0 or num > 99999999:  # Puedes ajustar este umbral según el caso\n",
    "            return 999999\n",
    "    except ValueError:\n",
    "        return 999999  # Si no es un número, lo marcamos como inconsistente\n",
    "    return num\n",
    "\n",
    "# Aplicar validaciones en todas las columnas según su tipo\n",
    "for col in df.columns:\n",
    "    if df[col].dtype == \"object\":  # Columnas de texto\n",
    "        df[col] = df[col].map(reemplazar_no_ascii)\n",
    "        df[col] = df[col].map(limpiar_texto)\n",
    "    else:  # Columnas numéricas\n",
    "        df[col] = df[col].map(validar_numericos)\n",
    "\n",
    "# Reemplazar NaN e infinitos con 999999\n",
    "df = df.fillna(999999)\n",
    "df.replace([float('inf'), float('-inf')], 999999, inplace=True)\n",
    "\n",
    "# Mostrar primeras filas\n",
    "print(df.head())"
   ]
  },
  {
   "cell_type": "code",
   "execution_count": 107,
   "metadata": {},
   "outputs": [],
   "source": [
    "with open(\"../credentials.json\") as f:\n",
    "    creds = json.load(f)\n",
    "    \n",
    "DB_USER = creds[\"user\"]\n",
    "DB_PASSWORD = creds[\"password\"]\n",
    "DB_HOST = creds[\"host\"]\n",
    "DB_PORT = creds[\"port\"]\n",
    "DB_NAME = creds[\"database\"]\n",
    "\n",
    "connection_string = f'postgresql+psycopg2://{DB_USER}:{DB_PASSWORD}@{DB_HOST}:{DB_PORT}/{DB_NAME}?client_encoding=latin1'"
   ]
  },
  {
   "cell_type": "code",
   "execution_count": 108,
   "metadata": {},
   "outputs": [],
   "source": [
    "engine = create_engine(f\"postgresql+psycopg2://{DB_USER}:{DB_PASSWORD}@{DB_HOST}:{DB_PORT}/{DB_NAME}?client_encoding=utf8\")\n",
    "df.to_sql(\"airbnb\", engine, if_exists='append', index=False)"
   ]
  },
  {
   "cell_type": "code",
   "execution_count": 97,
   "metadata": {},
   "outputs": [],
   "source": [
    "query = \"SELECT * FROM airbnb;\"\n",
    "\n",
    "df = pd.read_sql(query, engine)\n",
    "\n",
    "print(df.head())"
   ]
  },
  {
   "cell_type": "markdown",
   "metadata": {},
   "source": []
  },
  {
   "cell_type": "code",
   "execution_count": 120,
   "metadata": {},
   "outputs": [],
   "source": [
    "# Importar bibliotecas necesarias\n",
    "import pandas as pd\n",
    "from sqlalchemy import create_engine, text\n",
    "import json\n",
    "\n",
    "# Cargar las credenciales desde el archivo JSON\n",
    "with open(\"../credentials.json\") as f:\n",
    "    creds = json.load(f)\n",
    "    \n",
    "DB_USER = creds[\"user\"]\n",
    "DB_PASSWORD = creds[\"password\"]\n",
    "DB_HOST = creds[\"host\"]\n",
    "DB_PORT = creds[\"port\"]\n",
    "DB_NAME = \"airbnb_csv_db\"  # Nombre de la nueva base de datos"
   ]
  },
  {
   "cell_type": "code",
   "execution_count": 121,
   "metadata": {},
   "outputs": [],
   "source": [
    "# Leer el archivo CSV\n",
    "df = pd.read_csv(\"../data/Airbnb_Open_Data.csv\", low_memory=False, encoding='ISO-8859-1')\n",
    "print(\"Datos del CSV cargados correctamente.\")\n",
    "print(df.head())  # Mostrar las primeras filas del DataFrame"
   ]
  },
  {
   "cell_type": "code",
   "execution_count": 116,
   "metadata": {},
   "outputs": [],
   "source": [
    "# Crear la cadena de conexión a la base de datos predeterminada (postgres)\n",
    "connection_string = f'postgresql+psycopg2://{DB_USER}:{DB_PASSWORD}@{DB_HOST}:{DB_PORT}/postgres'\n",
    "engine = create_engine(connection_string)\n",
    "\n",
    "# Verificar si la base de datos ya existe\n",
    "with engine.connect() as connection:\n",
    "    connection.execution_options(isolation_level=\"AUTOCOMMIT\")\n",
    "    \n",
    "    # Consultar la lista de bases de datos\n",
    "    result = connection.execute(text(\"SELECT datname FROM pg_database;\"))\n",
    "    databases = [row[0] for row in result]\n",
    "\n",
    "    if DB_NAME in databases:\n",
    "        print(f\"La base de datos '{DB_NAME}' ya existe.\")\n",
    "    else:\n",
    "        # Crear la nueva base de datos si no existe\n",
    "        connection.execute(text(f\"CREATE DATABASE {DB_NAME};\"))\n",
    "        print(f\"Base de datos '{DB_NAME}' creada.\")"
   ]
  },
  {
   "cell_type": "code",
   "execution_count": 117,
   "metadata": {},
   "outputs": [],
   "source": [
    "# Crear la cadena de conexión para la nueva base de datos\n",
    "new_connection_string = f'postgresql+psycopg2://{DB_USER}:{DB_PASSWORD}@{DB_HOST}:{DB_PORT}/{DB_NAME}'\n",
    "new_engine = create_engine(new_connection_string)\n",
    "\n",
    "# Crear la tabla en la nueva base de datos y cargar los datos\n",
    "table_name = \"airbnb_data\"  # Nombre de la nueva tabla\n",
    "df.to_sql(table_name, new_engine, if_exists='replace', index=False)\n",
    "\n",
    "print(f\"Tabla '{table_name}' creada y datos cargados en la base de datos '{DB_NAME}'.\")"
   ]
  },
  {
   "cell_type": "code",
   "execution_count": 119,
   "metadata": {},
   "outputs": [],
   "source": [
    "# Verificar los datos en la nueva tabla\n",
    "with new_engine.connect() as connection:\n",
    "    result = connection.execute(text(f\"SELECT * FROM {table_name} LIMIT 5;\"))\n",
    "    for row in result:\n",
    "        print(row)"
   ]
  }
 ],
 "metadata": {
  "kernelspec": {
   "display_name": "Python 3",
   "language": "python",
   "name": "python3"
  },
  "language_info": {
   "codemirror_mode": {
    "name": "ipython",
    "version": 3
   },
   "file_extension": ".py",
   "mimetype": "text/x-python",
   "name": "python",
   "nbconvert_exporter": "python",
   "pygments_lexer": "ipython3",
   "version": "3.12.5"
  }
 },
 "nbformat": 4,
 "nbformat_minor": 2
}
