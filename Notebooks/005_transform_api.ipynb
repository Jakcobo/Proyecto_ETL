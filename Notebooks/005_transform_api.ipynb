{
 "cells": [
  {
   "cell_type": "markdown",
   "id": "d60e386a",
   "metadata": {},
   "source": [
    "# Tranforms for API "
   ]
  },
  {
   "cell_type": "markdown",
   "id": "0248f8f6",
   "metadata": {},
   "source": [
    "### Enviroment"
   ]
  },
  {
   "cell_type": "code",
   "execution_count": null,
   "id": "12e5d90a",
   "metadata": {
    "vscode": {
     "languageId": "plaintext"
    }
   },
   "outputs": [],
   "source": [
    "import os \n",
    "import pandas as pd"
   ]
  },
  {
   "cell_type": "code",
   "execution_count": null,
   "id": "713de9ab",
   "metadata": {
    "vscode": {
     "languageId": "plaintext"
    }
   },
   "outputs": [],
   "source": [
    "df = pd.read_csv(\"data/ny_places_foursquare_v3.csv\")\n",
    "df.head()   "
   ]
  },
  {
   "cell_type": "code",
   "execution_count": null,
   "id": "66b4f1f9",
   "metadata": {
    "vscode": {
     "languageId": "plaintext"
    }
   },
   "outputs": [],
   "source": [
    "nan_percentages = df.isnull().mean() * 100\n",
    "print(nan_percentages.round(2))"
   ]
  },
  {
   "cell_type": "code",
   "execution_count": null,
   "id": "ff6fa4ca",
   "metadata": {
    "vscode": {
     "languageId": "plaintext"
    }
   },
   "outputs": [],
   "source": [
    "print(df.columns)"
   ]
  },
  {
   "cell_type": "code",
   "execution_count": null,
   "id": "a2ce2ca5",
   "metadata": {
    "vscode": {
     "languageId": "plaintext"
    }
   },
   "outputs": [],
   "source": [
    "print(df['borough'].unique())"
   ]
  },
  {
   "cell_type": "code",
   "execution_count": null,
   "id": "bb7727fb",
   "metadata": {
    "vscode": {
     "languageId": "plaintext"
    }
   },
   "outputs": [],
   "source": [
    "print(df['category'].unique())"
   ]
  },
  {
   "cell_type": "code",
   "execution_count": null,
   "id": "7abd67cf",
   "metadata": {
    "vscode": {
     "languageId": "plaintext"
    }
   },
   "outputs": [],
   "source": [
    "category_mapping = {\n",
    "    'cultural': ['Art Museum', 'Art Gallery', 'History Museum', 'Museum', 'Public Art',\n",
    "                                   'Cultural Center', 'Indie Movie Theater', 'Music Venue', 'Performing Arts Venue', \n",
    "                                   'Theater', 'Dance Studio', 'Science Museum', 'Sculpture Garden', 'Concert Hall'],\n",
    "\n",
    "    'restaurants': ['Italian Restaurant', 'Fast Food Restaurant', 'Korean Restaurant', 'Thai Restaurant', 'Wine Bar', \n",
    "                    'Brazilian Restaurant', 'Pizzeria', 'American Restaurant', 'French Restaurant', 'Mexican Restaurant', \n",
    "                    'Chinese Restaurant', 'Latin American Restaurant', 'Greek Restaurant', 'Burger Joint', 'Deli', 'Cocktail Bar', \n",
    "                    'Wine Store', 'Dessert Shop', 'Sandwich Spot', 'Seafood Restaurant', 'Café', 'Gastropub', 'Fried Chicken Joint', \n",
    "                    'Coffee Shop', 'Pub', 'Kosher Restaurant', 'Cantonese Restaurant', 'Asian Restaurant', 'German Restaurant', 'Wings Joint', \n",
    "                    'Irish Pub'],\n",
    "\n",
    "    'parks_& _outdoor': ['Urban Park', 'Lake', 'Park', 'Playground', 'State or Provincial Park', 'Botanical Garden', \n",
    "                        'Picnic Area', 'Beach', 'Soccer Field', 'National Park', 'Hiking Trail', 'Campground', 'Scenic Lookout', \n",
    "                        'Dog Park', 'Zoo', 'Zoo Exhibit'],\n",
    "\n",
    "    'retail_&_shopping': ['Bakery', 'Grocery Store', 'Big Box Store', 'Gourmet Store', 'Electronics Store', 'Organic Grocery', \n",
    "                          'Clothing Store', 'Toy Store', 'Department Store', 'Gift Store', 'Convenience Store', 'Shopping Mall', \n",
    "                          'Supermarket', 'Retail', 'Shopping Plaza', 'Discount Store', 'Fruit and Vegetable Store', \n",
    "                          'Furniture and Home Store', 'Video Games Store', 'Office Supply Store', 'Tobacco Store', 'Liquor Store', \n",
    "                          'Beer Store', 'Warehouse or Wholesale Store'],\n",
    "\n",
    "    'entertainment_&_leisure': ['Movie Theater', 'Arcade', 'Bowling Alley', 'Amusement Park', 'Pool Hall', \n",
    "                                'Event Space', 'Karaoke Bar', 'Sports Bar', 'Lounge', 'Beer Garden', 'Stadium', 'Rock Climbing Spot'],\n",
    "                            \n",
    "    'landmarks': ['Landmarks and Outdoors', 'Monument', 'Bridge'],\n",
    "\n",
    "    'bars_&_clubs': ['Bar', 'Gay Bar', 'Dive Bar', 'Cocktail Bar', 'Beer Bar', 'Hotel Bar', 'Beer Garden', 'Hookah Bar', \n",
    "                     'Wine Store', 'Night Club', 'Rock Club','Comedy Club']\n",
    "}\n",
    "\n",
    "def map_category(category):\n",
    "    for group, categories in category_mapping.items():\n",
    "        if category in categories:\n",
    "            return group\n",
    "    return 'Other'  \n",
    "\n",
    "df['category_group'] = df['category'].apply(map_category)\n",
    "\n",
    "print(df[['category', 'category_group']].head())\n"
   ]
  },
  {
   "cell_type": "code",
   "execution_count": null,
   "id": "c795108c",
   "metadata": {
    "vscode": {
     "languageId": "plaintext"
    }
   },
   "outputs": [],
   "source": [
    "columns_to_remove = ['price','rating','hours','popularity', 'website','phone','address','category'] \n",
    "df = df.drop(columns=columns_to_remove)\n",
    "df.head()"
   ]
  }
 ],
 "metadata": {
  "language_info": {
   "name": "python"
  }
 },
 "nbformat": 4,
 "nbformat_minor": 5
}
